{
 "cells": [
  {
   "cell_type": "markdown",
   "id": "bf4bb54e-ba93-43c0-976f-6982e394fb4d",
   "metadata": {},
   "source": [
    "### Mobile App for Lottery Addiction\n",
    "\n",
    "In this project, we focus on implementing the probability calculation component of a mobile application designed to assist lottery addicts. The purpose of the app is to help users make more informed decisions by providing accurate estimates of their chances of winning. By understanding the actual odds, users may develop a more realistic perspective on lottery games and potentially reduce addictive behaviors."
   ]
  },
  {
   "cell_type": "markdown",
   "id": "297dee7f-4936-4591-80e0-394285e2b5e4",
   "metadata": {},
   "source": [
    "### Core Utility Functions\n",
    "\n",
    "We have implemented two essential functions—`factorial()` and `combinations()`—which will be used frequently in this project. These functions form the mathematical basis for our probability calculations:\n",
    "\n",
    "- `factorial(n)`: Computes the factorial of a given number `n`.\n",
    "- `combinations(n, k)`: Calculates the number of ways to choose `k` elements from a set of `n` elements without regard to the order."
   ]
  },
  {
   "cell_type": "code",
   "execution_count": 21,
   "id": "ace8b0df-4361-49f5-a0bb-2d409f432ad0",
   "metadata": {},
   "outputs": [],
   "source": [
    "def factorial(n):\n",
    "    fact = 1\n",
    "    for i in range(1, n + 1):\n",
    "        fact *= i    \n",
    "    return fact"
   ]
  },
  {
   "cell_type": "code",
   "execution_count": 23,
   "id": "1e0a2e4d-1e2f-4e12-9494-eaf3aa9de1d8",
   "metadata": {},
   "outputs": [],
   "source": [
    "def combinations(n, k):\n",
    "    return factorial(n) / (factorial(k) * factorial(n-k))"
   ]
  },
  {
   "cell_type": "code",
   "execution_count": 41,
   "id": "92814923-08a4-49a7-9903-9d8566a23b60",
   "metadata": {},
   "outputs": [],
   "source": [
    "def one_ticket_probability(numbers):\n",
    "    n_combinations = combinations(49, 6)\n",
    "    wp = (1 / n_combinations)\n",
    "    wp_percentage = wp * 100\n",
    "    print(f'''You picked the numbers: {numbers}.\n",
    "Your chance of winning the big prize is about {wp_percentage:.7f}%.\n",
    "That means you have 1 chance in {int(n_combinations):,} to win.''')"
   ]
  },
  {
   "cell_type": "code",
   "execution_count": 43,
   "id": "9a434de3-1668-4bf7-b347-8e83711ebc6f",
   "metadata": {},
   "outputs": [
    {
     "name": "stdout",
     "output_type": "stream",
     "text": [
      "You picked the numbers: [1, 2, 3, 4, 5, 6].\n",
      "Your chance of winning the big prize is about 0.0000072%.\n",
      "That means you have 1 chance in 13,983,816 to win.\n"
     ]
    }
   ],
   "source": [
    "one_ticket_probability([1, 2, 3, 4, 5, 6])"
   ]
  },
  {
   "cell_type": "code",
   "execution_count": 103,
   "id": "de10ec26-208c-406f-949c-c09c250051b0",
   "metadata": {},
   "outputs": [],
   "source": [
    "import pandas as pd\n",
    "\n",
    "lottery_649 = pd.read_csv(\"649.csv\")"
   ]
  },
  {
   "cell_type": "code",
   "execution_count": 107,
   "id": "691467c3-4081-4372-b5d5-201bd1177be4",
   "metadata": {},
   "outputs": [
    {
     "data": {
      "text/plain": [
       "(3665, 11)"
      ]
     },
     "execution_count": 107,
     "metadata": {},
     "output_type": "execute_result"
    }
   ],
   "source": [
    "lottery_649.shape"
   ]
  },
  {
   "cell_type": "code",
   "execution_count": 109,
   "id": "0903f0c5-ebab-4534-b734-54ad3f00ccbe",
   "metadata": {},
   "outputs": [
    {
     "data": {
      "text/html": [
       "<div>\n",
       "<style scoped>\n",
       "    .dataframe tbody tr th:only-of-type {\n",
       "        vertical-align: middle;\n",
       "    }\n",
       "\n",
       "    .dataframe tbody tr th {\n",
       "        vertical-align: top;\n",
       "    }\n",
       "\n",
       "    .dataframe thead th {\n",
       "        text-align: right;\n",
       "    }\n",
       "</style>\n",
       "<table border=\"1\" class=\"dataframe\">\n",
       "  <thead>\n",
       "    <tr style=\"text-align: right;\">\n",
       "      <th></th>\n",
       "      <th>PRODUCT</th>\n",
       "      <th>DRAW NUMBER</th>\n",
       "      <th>SEQUENCE NUMBER</th>\n",
       "      <th>DRAW DATE</th>\n",
       "      <th>NUMBER DRAWN 1</th>\n",
       "      <th>NUMBER DRAWN 2</th>\n",
       "      <th>NUMBER DRAWN 3</th>\n",
       "      <th>NUMBER DRAWN 4</th>\n",
       "      <th>NUMBER DRAWN 5</th>\n",
       "      <th>NUMBER DRAWN 6</th>\n",
       "      <th>BONUS NUMBER</th>\n",
       "    </tr>\n",
       "  </thead>\n",
       "  <tbody>\n",
       "    <tr>\n",
       "      <th>0</th>\n",
       "      <td>649</td>\n",
       "      <td>1</td>\n",
       "      <td>0</td>\n",
       "      <td>6/12/1982</td>\n",
       "      <td>3</td>\n",
       "      <td>11</td>\n",
       "      <td>12</td>\n",
       "      <td>14</td>\n",
       "      <td>41</td>\n",
       "      <td>43</td>\n",
       "      <td>13</td>\n",
       "    </tr>\n",
       "    <tr>\n",
       "      <th>1</th>\n",
       "      <td>649</td>\n",
       "      <td>2</td>\n",
       "      <td>0</td>\n",
       "      <td>6/19/1982</td>\n",
       "      <td>8</td>\n",
       "      <td>33</td>\n",
       "      <td>36</td>\n",
       "      <td>37</td>\n",
       "      <td>39</td>\n",
       "      <td>41</td>\n",
       "      <td>9</td>\n",
       "    </tr>\n",
       "    <tr>\n",
       "      <th>2</th>\n",
       "      <td>649</td>\n",
       "      <td>3</td>\n",
       "      <td>0</td>\n",
       "      <td>6/26/1982</td>\n",
       "      <td>1</td>\n",
       "      <td>6</td>\n",
       "      <td>23</td>\n",
       "      <td>24</td>\n",
       "      <td>27</td>\n",
       "      <td>39</td>\n",
       "      <td>34</td>\n",
       "    </tr>\n",
       "  </tbody>\n",
       "</table>\n",
       "</div>"
      ],
      "text/plain": [
       "   PRODUCT  DRAW NUMBER  SEQUENCE NUMBER  DRAW DATE  NUMBER DRAWN 1  \\\n",
       "0      649            1                0  6/12/1982               3   \n",
       "1      649            2                0  6/19/1982               8   \n",
       "2      649            3                0  6/26/1982               1   \n",
       "\n",
       "   NUMBER DRAWN 2  NUMBER DRAWN 3  NUMBER DRAWN 4  NUMBER DRAWN 5  \\\n",
       "0              11              12              14              41   \n",
       "1              33              36              37              39   \n",
       "2               6              23              24              27   \n",
       "\n",
       "   NUMBER DRAWN 6  BONUS NUMBER  \n",
       "0              43            13  \n",
       "1              41             9  \n",
       "2              39            34  "
      ]
     },
     "execution_count": 109,
     "metadata": {},
     "output_type": "execute_result"
    }
   ],
   "source": [
    "lottery_649.head(3)"
   ]
  },
  {
   "cell_type": "code",
   "execution_count": 111,
   "id": "69a30522-a7dd-4ce2-abbf-bfcb99fac05f",
   "metadata": {},
   "outputs": [
    {
     "data": {
      "text/html": [
       "<div>\n",
       "<style scoped>\n",
       "    .dataframe tbody tr th:only-of-type {\n",
       "        vertical-align: middle;\n",
       "    }\n",
       "\n",
       "    .dataframe tbody tr th {\n",
       "        vertical-align: top;\n",
       "    }\n",
       "\n",
       "    .dataframe thead th {\n",
       "        text-align: right;\n",
       "    }\n",
       "</style>\n",
       "<table border=\"1\" class=\"dataframe\">\n",
       "  <thead>\n",
       "    <tr style=\"text-align: right;\">\n",
       "      <th></th>\n",
       "      <th>PRODUCT</th>\n",
       "      <th>DRAW NUMBER</th>\n",
       "      <th>SEQUENCE NUMBER</th>\n",
       "      <th>DRAW DATE</th>\n",
       "      <th>NUMBER DRAWN 1</th>\n",
       "      <th>NUMBER DRAWN 2</th>\n",
       "      <th>NUMBER DRAWN 3</th>\n",
       "      <th>NUMBER DRAWN 4</th>\n",
       "      <th>NUMBER DRAWN 5</th>\n",
       "      <th>NUMBER DRAWN 6</th>\n",
       "      <th>BONUS NUMBER</th>\n",
       "    </tr>\n",
       "  </thead>\n",
       "  <tbody>\n",
       "    <tr>\n",
       "      <th>3662</th>\n",
       "      <td>649</td>\n",
       "      <td>3589</td>\n",
       "      <td>0</td>\n",
       "      <td>6/13/2018</td>\n",
       "      <td>6</td>\n",
       "      <td>22</td>\n",
       "      <td>24</td>\n",
       "      <td>31</td>\n",
       "      <td>32</td>\n",
       "      <td>34</td>\n",
       "      <td>16</td>\n",
       "    </tr>\n",
       "    <tr>\n",
       "      <th>3663</th>\n",
       "      <td>649</td>\n",
       "      <td>3590</td>\n",
       "      <td>0</td>\n",
       "      <td>6/16/2018</td>\n",
       "      <td>2</td>\n",
       "      <td>15</td>\n",
       "      <td>21</td>\n",
       "      <td>31</td>\n",
       "      <td>38</td>\n",
       "      <td>49</td>\n",
       "      <td>8</td>\n",
       "    </tr>\n",
       "    <tr>\n",
       "      <th>3664</th>\n",
       "      <td>649</td>\n",
       "      <td>3591</td>\n",
       "      <td>0</td>\n",
       "      <td>6/20/2018</td>\n",
       "      <td>14</td>\n",
       "      <td>24</td>\n",
       "      <td>31</td>\n",
       "      <td>35</td>\n",
       "      <td>37</td>\n",
       "      <td>48</td>\n",
       "      <td>17</td>\n",
       "    </tr>\n",
       "  </tbody>\n",
       "</table>\n",
       "</div>"
      ],
      "text/plain": [
       "      PRODUCT  DRAW NUMBER  SEQUENCE NUMBER  DRAW DATE  NUMBER DRAWN 1  \\\n",
       "3662      649         3589                0  6/13/2018               6   \n",
       "3663      649         3590                0  6/16/2018               2   \n",
       "3664      649         3591                0  6/20/2018              14   \n",
       "\n",
       "      NUMBER DRAWN 2  NUMBER DRAWN 3  NUMBER DRAWN 4  NUMBER DRAWN 5  \\\n",
       "3662              22              24              31              32   \n",
       "3663              15              21              31              38   \n",
       "3664              24              31              35              37   \n",
       "\n",
       "      NUMBER DRAWN 6  BONUS NUMBER  \n",
       "3662              34            16  \n",
       "3663              49             8  \n",
       "3664              48            17  "
      ]
     },
     "execution_count": 111,
     "metadata": {},
     "output_type": "execute_result"
    }
   ],
   "source": [
    "lottery_649.tail(3)"
   ]
  },
  {
   "cell_type": "code",
   "execution_count": 113,
   "id": "49028b62-5de6-4b11-b6d5-af1f7d33826b",
   "metadata": {},
   "outputs": [],
   "source": [
    "def extract_numbers(row):\n",
    "    row = row[-7:-1]\n",
    "    row = set(row.values)\n",
    "    return row"
   ]
  },
  {
   "cell_type": "code",
   "execution_count": 115,
   "id": "09fba469-7267-41f8-b68a-96a1210a422a",
   "metadata": {},
   "outputs": [
    {
     "data": {
      "text/plain": [
       "{18, 25, 28, 33, 36, 42}"
      ]
     },
     "execution_count": 115,
     "metadata": {},
     "output_type": "execute_result"
    }
   ],
   "source": [
    "extract_numbers(lottery_649.iloc[6])"
   ]
  },
  {
   "cell_type": "code",
   "execution_count": 119,
   "id": "40787498-f6a4-483a-b872-8c50bbc4db10",
   "metadata": {},
   "outputs": [
    {
     "data": {
      "text/plain": [
       "0    {3, 41, 11, 12, 43, 14}\n",
       "1    {33, 36, 37, 39, 8, 41}\n",
       "2     {1, 6, 39, 23, 24, 27}\n",
       "3     {3, 9, 10, 43, 13, 20}\n",
       "4    {34, 5, 14, 47, 21, 31}\n",
       "dtype: object"
      ]
     },
     "execution_count": 119,
     "metadata": {},
     "output_type": "execute_result"
    }
   ],
   "source": [
    "winning_numbers = lottery_649.apply(extract_numbers, axis=1)\n",
    "winning_numbers.head()"
   ]
  },
  {
   "cell_type": "code",
   "execution_count": 142,
   "id": "803ba815-c79b-45d2-8010-e305467e93a9",
   "metadata": {},
   "outputs": [],
   "source": [
    "def check_historical_occurence(user_num, winning_num):\n",
    "    user_num_set = set(user_num)\n",
    "    check_occurence = winning_numbers == user_num_set\n",
    "    n_occurences = check_occurence.sum()\n",
    "\n",
    "    if n_occurences == 0:\n",
    "        print(f'''The combination {user_num} has never occurred.\n",
    "Your chances to win the big prize in the next drawing using the combination {user_num} are 0.0000072%.\n",
    "In other words, you have a 1 in 13,983,816 chances to win.''')\n",
    "    else:\n",
    "        print(f'''The number of times combination {user_num} has occurred in the past is {n_occurences}.\n",
    "Your chances to win the big prize in the next drawing using the combination {user_num} are 0.0000072%.\n",
    "In other words, you have a 1 in 13,983,816 chances to win.''')"
   ]
  },
  {
   "cell_type": "code",
   "execution_count": 144,
   "id": "a9e4b79f-a349-47ad-878e-91b86ab16ded",
   "metadata": {},
   "outputs": [
    {
     "name": "stdout",
     "output_type": "stream",
     "text": [
      "The number of times combination [3, 41, 11, 12, 43, 14] has occurred in the past is 1.\n",
      "Your chances to win the big prize in the next drawing using the combination [3, 41, 11, 12, 43, 14] are 0.0000072%.\n",
      "In other words, you have a 1 in 13,983,816 chances to win.\n"
     ]
    }
   ],
   "source": [
    "# testing with winning occurence of numbers\n",
    "check_historical_occurence([3, 41, 11, 12, 43, 14], winning_numbers)"
   ]
  },
  {
   "cell_type": "code",
   "execution_count": 148,
   "id": "3e81fe6e-1a37-4f3b-be7b-f2b79f635e24",
   "metadata": {},
   "outputs": [
    {
     "name": "stdout",
     "output_type": "stream",
     "text": [
      "The combination [1, 2, 3, 4, 5, 6] has never occurred.\n",
      "Your chances to win the big prize in the next drawing using the combination [1, 2, 3, 4, 5, 6] are 0.0000072%.\n",
      "In other words, you have a 1 in 13,983,816 chances to win.\n"
     ]
    }
   ],
   "source": [
    "# testing with non-winning occurence of numbers\n",
    "check_historical_occurence([1, 2, 3, 4, 5, 6], winning_numbers)"
   ]
  },
  {
   "cell_type": "code",
   "execution_count": 152,
   "id": "afcdb241-b08b-437f-8b98-b098aba2d571",
   "metadata": {},
   "outputs": [],
   "source": [
    "n_combinations = combinations(49, 6)\n",
    "\n",
    "def multi_ticket_probability(n_tickets):\n",
    "    prob = n_tickets / n_combinations\n",
    "    prob_percentage = prob * 100\n",
    "    if n_tickets == 1:\n",
    "        print(f'''Your chances to win the big prize with one ticket are {prob_percentage:.6f}%.\n",
    "In other words, you have a 1 in {int(n_combinations):,} chances to win.''')\n",
    "    else:\n",
    "        combinations_simplified = round(n_combinations / n_tickets)\n",
    "        print(f'''Your chances to win the big prize with {n_tickets:,} different tickets are {prob_percentage:.6f}%.\n",
    "In other words, you have a 1 in {combinations_simplified:,} chances to win.''')"
   ]
  },
  {
   "cell_type": "code",
   "execution_count": 156,
   "id": "f59b09cc-e40d-41ec-93ba-0691a662462f",
   "metadata": {},
   "outputs": [
    {
     "name": "stdout",
     "output_type": "stream",
     "text": [
      "Your chances to win the big prize with one ticket are 0.000007%.\n",
      "In other words, you have a 1 in 13,983,816 chances to win.\n",
      "\n",
      "Your chances to win the big prize with 10 different tickets are 0.000072%.\n",
      "In other words, you have a 1 in 1,398,382 chances to win.\n",
      "\n",
      "Your chances to win the big prize with 100 different tickets are 0.000715%.\n",
      "In other words, you have a 1 in 139,838 chances to win.\n",
      "\n",
      "Your chances to win the big prize with 10,000 different tickets are 0.071511%.\n",
      "In other words, you have a 1 in 1,398 chances to win.\n",
      "\n",
      "Your chances to win the big prize with 1,000,000 different tickets are 7.151124%.\n",
      "In other words, you have a 1 in 14 chances to win.\n",
      "\n",
      "Your chances to win the big prize with 6,991,908 different tickets are 50.000000%.\n",
      "In other words, you have a 1 in 2 chances to win.\n",
      "\n",
      "Your chances to win the big prize with 13,983,816 different tickets are 100.000000%.\n",
      "In other words, you have a 1 in 1 chances to win.\n",
      "\n"
     ]
    }
   ],
   "source": [
    "n_tickets_list = [1, 10, 100, 10000, 1000000, 6991908, 13983816]\n",
    "\n",
    "for n in n_tickets_list:\n",
    "    multi_ticket_probability(n)\n",
    "    print(\"\")"
   ]
  },
  {
   "cell_type": "code",
   "execution_count": 180,
   "id": "c5f5047d-3dd4-4758-a363-784308406a8a",
   "metadata": {},
   "outputs": [],
   "source": [
    "def probability_less_6(n_winning_numbers):\n",
    "    n_combinations_ticket = combinations(6, n_winning_numbers)\n",
    "    n_combinations_remaining = combinations(43, 6 - n_winning_numbers)\n",
    "    successful_outcomes = n_combinations_ticket * n_combinations_remaining\n",
    "\n",
    "    n_combinations_total = combinations(49, 6)    \n",
    "    probability = successful_outcomes / n_combinations_total\n",
    "    probability_percentage = probability * 100    \n",
    "    combinations_simplified = round(n_combinations_total / successful_outcomes)\n",
    "\n",
    "    print(f'''Your chances of having {n_winning_numbers} winning numbers with this ticket are {probability_percentage:.6f}%.\n",
    "In other words, you have a 1 in {combinations_simplified:,} chances to win.''')"
   ]
  },
  {
   "cell_type": "code",
   "execution_count": 192,
   "id": "f79dc19b-ecc9-49fb-928a-2d62c9e61218",
   "metadata": {},
   "outputs": [
    {
     "name": "stdout",
     "output_type": "stream",
     "text": [
      "Your chances of having 2 winning numbers with this ticket are 13.237803%.\n",
      "In other words, you have a 1 in 8 chances to win.\n",
      "\n",
      "Your chances of having 3 winning numbers with this ticket are 1.765040%.\n",
      "In other words, you have a 1 in 57 chances to win.\n",
      "\n",
      "Your chances of having 4 winning numbers with this ticket are 0.096862%.\n",
      "In other words, you have a 1 in 1,032 chances to win.\n",
      "\n",
      "Your chances of having 5 winning numbers with this ticket are 0.001845%.\n",
      "In other words, you have a 1 in 54,201 chances to win.\n",
      "\n"
     ]
    }
   ],
   "source": [
    "for n_ticket in [2, 3, 4, 5]:\n",
    "    probability_less_6(n_ticket)\n",
    "    print(\"\")"
   ]
  },
  {
   "cell_type": "code",
   "execution_count": null,
   "id": "82f7c874-78dd-4e02-a641-15f694101020",
   "metadata": {},
   "outputs": [],
   "source": []
  }
 ],
 "metadata": {
  "kernelspec": {
   "display_name": "Python 3 (ipykernel)",
   "language": "python",
   "name": "python3"
  },
  "language_info": {
   "codemirror_mode": {
    "name": "ipython",
    "version": 3
   },
   "file_extension": ".py",
   "mimetype": "text/x-python",
   "name": "python",
   "nbconvert_exporter": "python",
   "pygments_lexer": "ipython3",
   "version": "3.12.2"
  }
 },
 "nbformat": 4,
 "nbformat_minor": 5
}
