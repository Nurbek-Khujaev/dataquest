{
 "cells": [
  {
   "cell_type": "code",
   "execution_count": 229,
   "id": "c9f5a49a-a966-4ce7-9a91-65832a91aea0",
   "metadata": {},
   "outputs": [],
   "source": [
    "import pandas as pd\n",
    "import numpy as np\n",
    "import matplotlib.pyplot as plt"
   ]
  },
  {
   "cell_type": "code",
   "execution_count": 230,
   "id": "81bc7cc4-ccf9-4140-a992-7f23d6874515",
   "metadata": {},
   "outputs": [],
   "source": [
    "data_files = [\n",
    "    \"ap_2010.csv\",\n",
    "    \"class_size.csv\",\n",
    "    \"demographics.csv\",\n",
    "    \"graduation.csv\",\n",
    "    \"hs_directory.csv\",\n",
    "    \"sat_results.csv\"\n",
    "]\n",
    "\n",
    "ap_2010 = pd.read_csv('schools/ap_2010.csv')\n",
    "class_size = pd.read_csv('schools/class_size.csv')\n",
    "demographics = pd.read_csv('schools/demographics.csv')\n",
    "graduation = pd.read_csv('schools/graduation.csv')\n",
    "hs_directory = pd.read_csv('schools/hs_directory.csv')\n",
    "sat_results = pd.read_csv('schools/sat_results.csv')\n",
    "\n",
    "data = {\n",
    "   \"ap_2010\": ap_2010,\n",
    "   \"class_size\": class_size,\n",
    "   \"demographics\": demographics,\n",
    "   \"graduation\": graduation,\n",
    "   \"hs_directory\": hs_directory,\n",
    "   \"sat_results\": sat_results\n",
    "}"
   ]
  },
  {
   "cell_type": "markdown",
   "id": "11493a87-823c-4235-9b74-064640303f53",
   "metadata": {},
   "source": [
    "We'll read each file into a pandas DataFrame and then store all of the DataFrames in a dictionary. This provides a convenient way to store them and a quick way to reference them later on."
   ]
  },
  {
   "cell_type": "code",
   "execution_count": 232,
   "id": "5e41577c-6b22-421f-8f39-be6913310fab",
   "metadata": {},
   "outputs": [
    {
     "name": "stdout",
     "output_type": "stream",
     "text": [
      "      DBN                                    SCHOOL NAME  \\\n",
      "0  01M292  HENRY STREET SCHOOL FOR INTERNATIONAL STUDIES   \n",
      "1  01M448            UNIVERSITY NEIGHBORHOOD HIGH SCHOOL   \n",
      "2  01M450                     EAST SIDE COMMUNITY SCHOOL   \n",
      "3  01M458                      FORSYTH SATELLITE ACADEMY   \n",
      "4  01M509                        MARTA VALLE HIGH SCHOOL   \n",
      "\n",
      "  Num of SAT Test Takers SAT Critical Reading Avg. Score SAT Math Avg. Score  \\\n",
      "0                     29                             355                 404   \n",
      "1                     91                             383                 423   \n",
      "2                     70                             377                 402   \n",
      "3                      7                             414                 401   \n",
      "4                     44                             390                 433   \n",
      "\n",
      "  SAT Writing Avg. Score  \n",
      "0                    363  \n",
      "1                    366  \n",
      "2                    370  \n",
      "3                    359  \n",
      "4                    384  \n"
     ]
    }
   ],
   "source": [
    "print(data[\"sat_results\"].head())"
   ]
  },
  {
   "cell_type": "code",
   "execution_count": 233,
   "id": "5ecb6f3b-ee02-4e73-b401-a894266ce074",
   "metadata": {},
   "outputs": [
    {
     "name": "stdout",
     "output_type": "stream",
     "text": [
      "      DBN                             SchoolName  AP Test Takers   \\\n",
      "0  01M448           UNIVERSITY NEIGHBORHOOD H.S.             39.0   \n",
      "1  01M450                 EAST SIDE COMMUNITY HS             19.0   \n",
      "2  01M515                    LOWER EASTSIDE PREP             24.0   \n",
      "3  01M539         NEW EXPLORATIONS SCI,TECH,MATH            255.0   \n",
      "4  02M296  High School of Hospitality Management              NaN   \n",
      "\n",
      "   Total Exams Taken  Number of Exams with scores 3 4 or 5  \n",
      "0               49.0                                  10.0  \n",
      "1               21.0                                   NaN  \n",
      "2               26.0                                  24.0  \n",
      "3              377.0                                 191.0  \n",
      "4                NaN                                   NaN  \n",
      "   CSD BOROUGH SCHOOL CODE                SCHOOL NAME GRADE  PROGRAM TYPE  \\\n",
      "0    1       M        M015  P.S. 015 Roberto Clemente     0K       GEN ED   \n",
      "1    1       M        M015  P.S. 015 Roberto Clemente     0K          CTT   \n",
      "2    1       M        M015  P.S. 015 Roberto Clemente     01       GEN ED   \n",
      "3    1       M        M015  P.S. 015 Roberto Clemente     01          CTT   \n",
      "4    1       M        M015  P.S. 015 Roberto Clemente     02       GEN ED   \n",
      "\n",
      "  CORE SUBJECT (MS CORE and 9-12 ONLY) CORE COURSE (MS CORE and 9-12 ONLY)  \\\n",
      "0                                    -                                   -   \n",
      "1                                    -                                   -   \n",
      "2                                    -                                   -   \n",
      "3                                    -                                   -   \n",
      "4                                    -                                   -   \n",
      "\n",
      "  SERVICE CATEGORY(K-9* ONLY)  NUMBER OF STUDENTS / SEATS FILLED  \\\n",
      "0                           -                               19.0   \n",
      "1                           -                               21.0   \n",
      "2                           -                               17.0   \n",
      "3                           -                               17.0   \n",
      "4                           -                               15.0   \n",
      "\n",
      "   NUMBER OF SECTIONS  AVERAGE CLASS SIZE  SIZE OF SMALLEST CLASS  \\\n",
      "0                 1.0                19.0                    19.0   \n",
      "1                 1.0                21.0                    21.0   \n",
      "2                 1.0                17.0                    17.0   \n",
      "3                 1.0                17.0                    17.0   \n",
      "4                 1.0                15.0                    15.0   \n",
      "\n",
      "   SIZE OF LARGEST CLASS DATA SOURCE  SCHOOLWIDE PUPIL-TEACHER RATIO  \n",
      "0                   19.0         ATS                             NaN  \n",
      "1                   21.0         ATS                             NaN  \n",
      "2                   17.0         ATS                             NaN  \n",
      "3                   17.0         ATS                             NaN  \n",
      "4                   15.0         ATS                             NaN  \n",
      "      DBN                       Name  schoolyear fl_percent  frl_percent  \\\n",
      "0  01M015  P.S. 015 ROBERTO CLEMENTE    20052006       89.4          NaN   \n",
      "1  01M015  P.S. 015 ROBERTO CLEMENTE    20062007       89.4          NaN   \n",
      "2  01M015  P.S. 015 ROBERTO CLEMENTE    20072008       89.4          NaN   \n",
      "3  01M015  P.S. 015 ROBERTO CLEMENTE    20082009       89.4          NaN   \n",
      "4  01M015  P.S. 015 ROBERTO CLEMENTE    20092010                    96.5   \n",
      "\n",
      "   total_enrollment prek   k grade1 grade2  ... black_num black_per  \\\n",
      "0               281   15  36     40     33  ...        74      26.3   \n",
      "1               243   15  29     39     38  ...        68      28.0   \n",
      "2               261   18  43     39     36  ...        77      29.5   \n",
      "3               252   17  37     44     32  ...        75      29.8   \n",
      "4               208   16  40     28     32  ...        67      32.2   \n",
      "\n",
      "  hispanic_num hispanic_per white_num white_per male_num male_per female_num  \\\n",
      "0          189         67.3         5       1.8    158.0     56.2      123.0   \n",
      "1          153         63.0         4       1.6    140.0     57.6      103.0   \n",
      "2          157         60.2         7       2.7    143.0     54.8      118.0   \n",
      "3          149         59.1         7       2.8    149.0     59.1      103.0   \n",
      "4          118         56.7         6       2.9    124.0     59.6       84.0   \n",
      "\n",
      "  female_per  \n",
      "0       43.8  \n",
      "1       42.4  \n",
      "2       45.2  \n",
      "3       40.9  \n",
      "4       40.4  \n",
      "\n",
      "[5 rows x 38 columns]\n",
      "    Demographic     DBN                            School Name    Cohort  \\\n",
      "0  Total Cohort  01M292  HENRY STREET SCHOOL FOR INTERNATIONAL      2003   \n",
      "1  Total Cohort  01M292  HENRY STREET SCHOOL FOR INTERNATIONAL      2004   \n",
      "2  Total Cohort  01M292  HENRY STREET SCHOOL FOR INTERNATIONAL      2005   \n",
      "3  Total Cohort  01M292  HENRY STREET SCHOOL FOR INTERNATIONAL      2006   \n",
      "4  Total Cohort  01M292  HENRY STREET SCHOOL FOR INTERNATIONAL  2006 Aug   \n",
      "\n",
      "   Total Cohort Total Grads - n Total Grads - % of cohort Total Regents - n  \\\n",
      "0             5               s                         s                 s   \n",
      "1            55              37                     67.3%                17   \n",
      "2            64              43                     67.2%                27   \n",
      "3            78              43                     55.1%                36   \n",
      "4            78              44                     56.4%                37   \n",
      "\n",
      "  Total Regents - % of cohort Total Regents - % of grads  ...  \\\n",
      "0                           s                          s  ...   \n",
      "1                       30.9%                      45.9%  ...   \n",
      "2                       42.2%                      62.8%  ...   \n",
      "3                       46.2%                      83.7%  ...   \n",
      "4                       47.4%                      84.1%  ...   \n",
      "\n",
      "  Regents w/o Advanced - n Regents w/o Advanced - % of cohort  \\\n",
      "0                        s                                  s   \n",
      "1                       17                              30.9%   \n",
      "2                       27                              42.2%   \n",
      "3                       36                              46.2%   \n",
      "4                       37                              47.4%   \n",
      "\n",
      "  Regents w/o Advanced - % of grads Local - n Local - % of cohort  \\\n",
      "0                                 s         s                   s   \n",
      "1                             45.9%        20               36.4%   \n",
      "2                             62.8%        16                 25%   \n",
      "3                             83.7%         7                  9%   \n",
      "4                             84.1%         7                  9%   \n",
      "\n",
      "    Local - % of grads Still Enrolled - n Still Enrolled - % of cohort  \\\n",
      "0                    s                  s                            s   \n",
      "1                54.1%                 15                        27.3%   \n",
      "2  37.200000000000003%                  9                        14.1%   \n",
      "3                16.3%                 16                        20.5%   \n",
      "4                15.9%                 15                        19.2%   \n",
      "\n",
      "  Dropped Out - n Dropped Out - % of cohort  \n",
      "0               s                         s  \n",
      "1               3                      5.5%  \n",
      "2               9                     14.1%  \n",
      "3              11                     14.1%  \n",
      "4              11                     14.1%  \n",
      "\n",
      "[5 rows x 23 columns]\n",
      "      dbn                                        school_name    borough  \\\n",
      "0  27Q260          Frederick Douglass Academy VI High School     Queens   \n",
      "1  21K559        Life Academy High School for Film and Music   Brooklyn   \n",
      "2  16K393     Frederick Douglass Academy IV Secondary School   Brooklyn   \n",
      "3  08X305                               Pablo Neruda Academy      Bronx   \n",
      "4  03M485  Fiorello H. LaGuardia High School of Music & A...  Manhattan   \n",
      "\n",
      "  building_code  phone_number    fax_number  grade_span_min  grade_span_max  \\\n",
      "0          Q465  718-471-2154  718-471-2890             9.0              12   \n",
      "1          K400  718-333-7750  718-333-7775             9.0              12   \n",
      "2          K026  718-574-2820  718-574-2821             9.0              12   \n",
      "3          X450  718-824-1682  718-824-1663             9.0              12   \n",
      "4          M485  212-496-0700  212-724-5748             9.0              12   \n",
      "\n",
      "   expgrade_span_min  expgrade_span_max  ... priority08 priority09 priority10  \\\n",
      "0                NaN                NaN  ...        NaN        NaN        NaN   \n",
      "1                NaN                NaN  ...        NaN        NaN        NaN   \n",
      "2                NaN                NaN  ...        NaN        NaN        NaN   \n",
      "3                NaN                NaN  ...        NaN        NaN        NaN   \n",
      "4                NaN                NaN  ...        NaN        NaN        NaN   \n",
      "\n",
      "                                          Location 1 Community Board  \\\n",
      "0  8 21 Bay 25 Street\\nFar Rockaway, NY 11691\\n(4...            14.0   \n",
      "1  2630 Benson Avenue\\nBrooklyn, NY 11214\\n(40.59...            13.0   \n",
      "2  1014 Lafayette Avenue\\nBrooklyn, NY 11221\\n(40...             3.0   \n",
      "3  1980 Lafayette Avenue\\nBronx, NY 10473\\n(40.82...             9.0   \n",
      "4  100 Amsterdam Avenue\\nNew York, NY 10023\\n(40....             7.0   \n",
      "\n",
      "   Council District Census Tract        BIN           BBL  \\\n",
      "0              31.0     100802.0  4300730.0  4.157360e+09   \n",
      "1              47.0        306.0  3186454.0  3.068830e+09   \n",
      "2              36.0        291.0  3393805.0  3.016160e+09   \n",
      "3              18.0         16.0  2022205.0  2.036040e+09   \n",
      "4               6.0        151.0  1030341.0  1.011560e+09   \n",
      "\n",
      "                                                 NTA  \n",
      "0  Far Rockaway-Bayswater                        ...  \n",
      "1  Gravesend                                     ...  \n",
      "2  Stuyvesant Heights                            ...  \n",
      "3  Soundview-Castle Hill-Clason Point-Harding Par...  \n",
      "4  Lincoln Square                                ...  \n",
      "\n",
      "[5 rows x 64 columns]\n",
      "      DBN                                    SCHOOL NAME  \\\n",
      "0  01M292  HENRY STREET SCHOOL FOR INTERNATIONAL STUDIES   \n",
      "1  01M448            UNIVERSITY NEIGHBORHOOD HIGH SCHOOL   \n",
      "2  01M450                     EAST SIDE COMMUNITY SCHOOL   \n",
      "3  01M458                      FORSYTH SATELLITE ACADEMY   \n",
      "4  01M509                        MARTA VALLE HIGH SCHOOL   \n",
      "\n",
      "  Num of SAT Test Takers SAT Critical Reading Avg. Score SAT Math Avg. Score  \\\n",
      "0                     29                             355                 404   \n",
      "1                     91                             383                 423   \n",
      "2                     70                             377                 402   \n",
      "3                      7                             414                 401   \n",
      "4                     44                             390                 433   \n",
      "\n",
      "  SAT Writing Avg. Score  \n",
      "0                    363  \n",
      "1                    366  \n",
      "2                    370  \n",
      "3                    359  \n",
      "4                    384  \n"
     ]
    }
   ],
   "source": [
    "for key in data:\n",
    "    print(data[key].head())"
   ]
  },
  {
   "cell_type": "code",
   "execution_count": 234,
   "id": "e86a3a67-9d20-4134-aa55-ab0c78826e54",
   "metadata": {},
   "outputs": [
    {
     "data": {
      "text/html": [
       "<div>\n",
       "<style scoped>\n",
       "    .dataframe tbody tr th:only-of-type {\n",
       "        vertical-align: middle;\n",
       "    }\n",
       "\n",
       "    .dataframe tbody tr th {\n",
       "        vertical-align: top;\n",
       "    }\n",
       "\n",
       "    .dataframe thead th {\n",
       "        text-align: right;\n",
       "    }\n",
       "</style>\n",
       "<table border=\"1\" class=\"dataframe\">\n",
       "  <thead>\n",
       "    <tr style=\"text-align: right;\">\n",
       "      <th></th>\n",
       "      <th>dbn</th>\n",
       "      <th>bn</th>\n",
       "      <th>schoolname</th>\n",
       "      <th>d75</th>\n",
       "      <th>studentssurveyed</th>\n",
       "      <th>highschool</th>\n",
       "      <th>schooltype</th>\n",
       "      <th>rr_s</th>\n",
       "      <th>rr_t</th>\n",
       "      <th>rr_p</th>\n",
       "      <th>...</th>\n",
       "      <th>s_q14_2</th>\n",
       "      <th>s_q14_3</th>\n",
       "      <th>s_q14_4</th>\n",
       "      <th>s_q14_5</th>\n",
       "      <th>s_q14_6</th>\n",
       "      <th>s_q14_7</th>\n",
       "      <th>s_q14_8</th>\n",
       "      <th>s_q14_9</th>\n",
       "      <th>s_q14_10</th>\n",
       "      <th>s_q14_11</th>\n",
       "    </tr>\n",
       "  </thead>\n",
       "  <tbody>\n",
       "    <tr>\n",
       "      <th>0</th>\n",
       "      <td>01M015</td>\n",
       "      <td>M015</td>\n",
       "      <td>P.S. 015 Roberto Clemente</td>\n",
       "      <td>0</td>\n",
       "      <td>No</td>\n",
       "      <td>0.0</td>\n",
       "      <td>Elementary School</td>\n",
       "      <td>NaN</td>\n",
       "      <td>88</td>\n",
       "      <td>60</td>\n",
       "      <td>...</td>\n",
       "      <td>NaN</td>\n",
       "      <td>NaN</td>\n",
       "      <td>NaN</td>\n",
       "      <td>NaN</td>\n",
       "      <td>NaN</td>\n",
       "      <td>NaN</td>\n",
       "      <td>NaN</td>\n",
       "      <td>NaN</td>\n",
       "      <td>NaN</td>\n",
       "      <td>NaN</td>\n",
       "    </tr>\n",
       "    <tr>\n",
       "      <th>1</th>\n",
       "      <td>01M019</td>\n",
       "      <td>M019</td>\n",
       "      <td>P.S. 019 Asher Levy</td>\n",
       "      <td>0</td>\n",
       "      <td>No</td>\n",
       "      <td>0.0</td>\n",
       "      <td>Elementary School</td>\n",
       "      <td>NaN</td>\n",
       "      <td>100</td>\n",
       "      <td>60</td>\n",
       "      <td>...</td>\n",
       "      <td>NaN</td>\n",
       "      <td>NaN</td>\n",
       "      <td>NaN</td>\n",
       "      <td>NaN</td>\n",
       "      <td>NaN</td>\n",
       "      <td>NaN</td>\n",
       "      <td>NaN</td>\n",
       "      <td>NaN</td>\n",
       "      <td>NaN</td>\n",
       "      <td>NaN</td>\n",
       "    </tr>\n",
       "    <tr>\n",
       "      <th>2</th>\n",
       "      <td>01M020</td>\n",
       "      <td>M020</td>\n",
       "      <td>P.S. 020 Anna Silver</td>\n",
       "      <td>0</td>\n",
       "      <td>No</td>\n",
       "      <td>0.0</td>\n",
       "      <td>Elementary School</td>\n",
       "      <td>NaN</td>\n",
       "      <td>88</td>\n",
       "      <td>73</td>\n",
       "      <td>...</td>\n",
       "      <td>NaN</td>\n",
       "      <td>NaN</td>\n",
       "      <td>NaN</td>\n",
       "      <td>NaN</td>\n",
       "      <td>NaN</td>\n",
       "      <td>NaN</td>\n",
       "      <td>NaN</td>\n",
       "      <td>NaN</td>\n",
       "      <td>NaN</td>\n",
       "      <td>NaN</td>\n",
       "    </tr>\n",
       "    <tr>\n",
       "      <th>3</th>\n",
       "      <td>01M034</td>\n",
       "      <td>M034</td>\n",
       "      <td>P.S. 034 Franklin D. Roosevelt</td>\n",
       "      <td>0</td>\n",
       "      <td>Yes</td>\n",
       "      <td>0.0</td>\n",
       "      <td>Elementary / Middle School</td>\n",
       "      <td>89.0</td>\n",
       "      <td>73</td>\n",
       "      <td>50</td>\n",
       "      <td>...</td>\n",
       "      <td>NaN</td>\n",
       "      <td>NaN</td>\n",
       "      <td>NaN</td>\n",
       "      <td>NaN</td>\n",
       "      <td>NaN</td>\n",
       "      <td>NaN</td>\n",
       "      <td>NaN</td>\n",
       "      <td>NaN</td>\n",
       "      <td>NaN</td>\n",
       "      <td>NaN</td>\n",
       "    </tr>\n",
       "    <tr>\n",
       "      <th>4</th>\n",
       "      <td>01M063</td>\n",
       "      <td>M063</td>\n",
       "      <td>P.S. 063 William McKinley</td>\n",
       "      <td>0</td>\n",
       "      <td>No</td>\n",
       "      <td>0.0</td>\n",
       "      <td>Elementary School</td>\n",
       "      <td>NaN</td>\n",
       "      <td>100</td>\n",
       "      <td>60</td>\n",
       "      <td>...</td>\n",
       "      <td>NaN</td>\n",
       "      <td>NaN</td>\n",
       "      <td>NaN</td>\n",
       "      <td>NaN</td>\n",
       "      <td>NaN</td>\n",
       "      <td>NaN</td>\n",
       "      <td>NaN</td>\n",
       "      <td>NaN</td>\n",
       "      <td>NaN</td>\n",
       "      <td>NaN</td>\n",
       "    </tr>\n",
       "  </tbody>\n",
       "</table>\n",
       "<p>5 rows × 2773 columns</p>\n",
       "</div>"
      ],
      "text/plain": [
       "      dbn    bn                      schoolname  d75 studentssurveyed  \\\n",
       "0  01M015  M015       P.S. 015 Roberto Clemente    0               No   \n",
       "1  01M019  M019             P.S. 019 Asher Levy    0               No   \n",
       "2  01M020  M020            P.S. 020 Anna Silver    0               No   \n",
       "3  01M034  M034  P.S. 034 Franklin D. Roosevelt    0              Yes   \n",
       "4  01M063  M063       P.S. 063 William McKinley    0               No   \n",
       "\n",
       "   highschool                  schooltype  rr_s  rr_t  rr_p  ...  s_q14_2  \\\n",
       "0         0.0           Elementary School   NaN    88    60  ...      NaN   \n",
       "1         0.0           Elementary School   NaN   100    60  ...      NaN   \n",
       "2         0.0           Elementary School   NaN    88    73  ...      NaN   \n",
       "3         0.0  Elementary / Middle School  89.0    73    50  ...      NaN   \n",
       "4         0.0           Elementary School   NaN   100    60  ...      NaN   \n",
       "\n",
       "   s_q14_3  s_q14_4  s_q14_5  s_q14_6  s_q14_7  s_q14_8  s_q14_9  s_q14_10  \\\n",
       "0      NaN      NaN      NaN      NaN      NaN      NaN      NaN       NaN   \n",
       "1      NaN      NaN      NaN      NaN      NaN      NaN      NaN       NaN   \n",
       "2      NaN      NaN      NaN      NaN      NaN      NaN      NaN       NaN   \n",
       "3      NaN      NaN      NaN      NaN      NaN      NaN      NaN       NaN   \n",
       "4      NaN      NaN      NaN      NaN      NaN      NaN      NaN       NaN   \n",
       "\n",
       "   s_q14_11  \n",
       "0       NaN  \n",
       "1       NaN  \n",
       "2       NaN  \n",
       "3       NaN  \n",
       "4       NaN  \n",
       "\n",
       "[5 rows x 2773 columns]"
      ]
     },
     "execution_count": 234,
     "metadata": {},
     "output_type": "execute_result"
    }
   ],
   "source": [
    "all_survey = pd.read_csv('schools/survey_all.txt', delimiter=\"\\t\", encoding=\"windows-1252\")\n",
    "\n",
    "d75_survey = pd.read_csv('schools/survey_d75.txt', delimiter=\"\\t\",\n",
    "                         \n",
    "encoding=\"windows-1252\")\n",
    "\n",
    "survey = pd.concat([all_survey, d75_survey], axis=0)\n",
    "\n",
    "survey.head()"
   ]
  },
  {
   "cell_type": "code",
   "execution_count": 235,
   "id": "661158fb-7a23-45d2-96f3-e8d38f43cadd",
   "metadata": {},
   "outputs": [],
   "source": [
    "survey = survey.copy()\n",
    "\n",
    "survey['DBN'] = survey['dbn'].copy()\n",
    "\n",
    "survey = survey.loc[:, [\"DBN\", \"rr_s\", \"rr_t\", \"rr_p\", \"N_s\", \"N_t\", \"N_p\", \"saf_p_11\", \"com_p_11\", \"eng_p_11\", \"aca_p_11\", \"saf_t_11\", \"com_t_11\", \"eng_t_11\", \"aca_t_11\", \"saf_s_11\", \"com_s_11\", \"eng_s_11\", \"aca_s_11\", \"saf_tot_11\", \"com_tot_11\", \"eng_tot_11\", \"aca_tot_11\"]]\n",
    "\n",
    "data['survey'] = survey"
   ]
  },
  {
   "cell_type": "code",
   "execution_count": 236,
   "id": "f0283749-275d-45b3-80ca-9660378116b0",
   "metadata": {},
   "outputs": [
    {
     "name": "stdout",
     "output_type": "stream",
     "text": [
      "   CSD BOROUGH SCHOOL CODE                SCHOOL NAME GRADE  PROGRAM TYPE  \\\n",
      "0    1       M        M015  P.S. 015 Roberto Clemente     0K       GEN ED   \n",
      "1    1       M        M015  P.S. 015 Roberto Clemente     0K          CTT   \n",
      "2    1       M        M015  P.S. 015 Roberto Clemente     01       GEN ED   \n",
      "3    1       M        M015  P.S. 015 Roberto Clemente     01          CTT   \n",
      "4    1       M        M015  P.S. 015 Roberto Clemente     02       GEN ED   \n",
      "\n",
      "  CORE SUBJECT (MS CORE and 9-12 ONLY) CORE COURSE (MS CORE and 9-12 ONLY)  \\\n",
      "0                                    -                                   -   \n",
      "1                                    -                                   -   \n",
      "2                                    -                                   -   \n",
      "3                                    -                                   -   \n",
      "4                                    -                                   -   \n",
      "\n",
      "  SERVICE CATEGORY(K-9* ONLY)  NUMBER OF STUDENTS / SEATS FILLED  \\\n",
      "0                           -                               19.0   \n",
      "1                           -                               21.0   \n",
      "2                           -                               17.0   \n",
      "3                           -                               17.0   \n",
      "4                           -                               15.0   \n",
      "\n",
      "   NUMBER OF SECTIONS  AVERAGE CLASS SIZE  SIZE OF SMALLEST CLASS  \\\n",
      "0                 1.0                19.0                    19.0   \n",
      "1                 1.0                21.0                    21.0   \n",
      "2                 1.0                17.0                    17.0   \n",
      "3                 1.0                17.0                    17.0   \n",
      "4                 1.0                15.0                    15.0   \n",
      "\n",
      "   SIZE OF LARGEST CLASS DATA SOURCE  SCHOOLWIDE PUPIL-TEACHER RATIO  \\\n",
      "0                   19.0         ATS                             NaN   \n",
      "1                   21.0         ATS                             NaN   \n",
      "2                   17.0         ATS                             NaN   \n",
      "3                   17.0         ATS                             NaN   \n",
      "4                   15.0         ATS                             NaN   \n",
      "\n",
      "  padded_csd     DBN  \n",
      "0         01  01M015  \n",
      "1         01  01M015  \n",
      "2         01  01M015  \n",
      "3         01  01M015  \n",
      "4         01  01M015  \n"
     ]
    }
   ],
   "source": [
    "data['hs_directory']['DBN'] = data['hs_directory']['dbn'].copy()\n",
    "\n",
    "def pad_csd(num):\n",
    "    num_str = str(num)\n",
    "    num_len = len(num_str)\n",
    "    if num_len == 2:\n",
    "        return num_str\n",
    "    else:\n",
    "        return num_str.zfill(2)\n",
    "\n",
    "data['class_size']['padded_csd'] = data['class_size']['CSD'].apply(pad_csd)\n",
    "\n",
    "data['class_size']['DBN'] = data['class_size']['padded_csd'] + data['class_size']['SCHOOL CODE']\n",
    "\n",
    "print(data['class_size'].head())"
   ]
  },
  {
   "cell_type": "markdown",
   "id": "015e2bd7-77a2-43cf-89af-1fd2245ee079",
   "metadata": {},
   "source": [
    "### Calculating Total SAT Score  \n",
    "\n",
    "In this step, we convert the SAT section scores into numeric values to ensure proper calculations. Any invalid values are coerced into `NaN`. After conversion, we compute the total SAT score (`sat_score`) by summing up the three individual section scores:  \n",
    "\n",
    "- **SAT Math Average Score**  \n",
    "- **SAT Critical Reading Average Score**  \n",
    "- **SAT Writing Average Score**  \n",
    "\n",
    "This newly created `sat_score` column will be used for further analysis.  \n"
   ]
  },
  {
   "cell_type": "code",
   "execution_count": 238,
   "id": "ddf30607-8552-4c39-9b48-17f84d77501e",
   "metadata": {},
   "outputs": [],
   "source": [
    "data['sat_results']['SAT Math Avg. Score'] = pd.to_numeric(data['sat_results']['SAT Math Avg. Score'], errors='coerce')\n",
    "\n",
    "data['sat_results']['SAT Critical Reading Avg. Score'] = pd.to_numeric(data['sat_results']['SAT Critical Reading Avg. Score'], errors='coerce')\n",
    "\n",
    "data['sat_results']['SAT Writing Avg. Score'] = pd.to_numeric(data['sat_results']['SAT Writing Avg. Score'], errors='coerce')\n",
    "\n",
    "data['sat_results']['sat_score'] = data['sat_results']['SAT Math Avg. Score'] + data['sat_results']['SAT Critical Reading Avg. Score'] + data['sat_results']['SAT Writing Avg. Score'] "
   ]
  },
  {
   "cell_type": "code",
   "execution_count": 239,
   "id": "20a3411f-69b8-49e4-89e3-bf140b880d3f",
   "metadata": {},
   "outputs": [
    {
     "name": "stdout",
     "output_type": "stream",
     "text": [
      "      dbn                                        school_name    borough  \\\n",
      "0  27Q260          Frederick Douglass Academy VI High School     Queens   \n",
      "1  21K559        Life Academy High School for Film and Music   Brooklyn   \n",
      "2  16K393     Frederick Douglass Academy IV Secondary School   Brooklyn   \n",
      "3  08X305                               Pablo Neruda Academy      Bronx   \n",
      "4  03M485  Fiorello H. LaGuardia High School of Music & A...  Manhattan   \n",
      "\n",
      "  building_code  phone_number    fax_number  grade_span_min  grade_span_max  \\\n",
      "0          Q465  718-471-2154  718-471-2890             9.0              12   \n",
      "1          K400  718-333-7750  718-333-7775             9.0              12   \n",
      "2          K026  718-574-2820  718-574-2821             9.0              12   \n",
      "3          X450  718-824-1682  718-824-1663             9.0              12   \n",
      "4          M485  212-496-0700  212-724-5748             9.0              12   \n",
      "\n",
      "   expgrade_span_min  expgrade_span_max  ... priority10  \\\n",
      "0                NaN                NaN  ...        NaN   \n",
      "1                NaN                NaN  ...        NaN   \n",
      "2                NaN                NaN  ...        NaN   \n",
      "3                NaN                NaN  ...        NaN   \n",
      "4                NaN                NaN  ...        NaN   \n",
      "\n",
      "                                          Location 1 Community Board  \\\n",
      "0  8 21 Bay 25 Street\\nFar Rockaway, NY 11691\\n(4...            14.0   \n",
      "1  2630 Benson Avenue\\nBrooklyn, NY 11214\\n(40.59...            13.0   \n",
      "2  1014 Lafayette Avenue\\nBrooklyn, NY 11221\\n(40...             3.0   \n",
      "3  1980 Lafayette Avenue\\nBronx, NY 10473\\n(40.82...             9.0   \n",
      "4  100 Amsterdam Avenue\\nNew York, NY 10023\\n(40....             7.0   \n",
      "\n",
      "  Council District Census Tract        BIN           BBL  \\\n",
      "0             31.0     100802.0  4300730.0  4.157360e+09   \n",
      "1             47.0        306.0  3186454.0  3.068830e+09   \n",
      "2             36.0        291.0  3393805.0  3.016160e+09   \n",
      "3             18.0         16.0  2022205.0  2.036040e+09   \n",
      "4              6.0        151.0  1030341.0  1.011560e+09   \n",
      "\n",
      "                                                 NTA     DBN        lat  \n",
      "0  Far Rockaway-Bayswater                        ...  27Q260  40.601989  \n",
      "1  Gravesend                                     ...  21K559  40.593594  \n",
      "2  Stuyvesant Heights                            ...  16K393  40.692134  \n",
      "3  Soundview-Castle Hill-Clason Point-Harding Par...  08X305  40.822304  \n",
      "4  Lincoln Square                                ...  03M485  40.773671  \n",
      "\n",
      "[5 rows x 66 columns]\n"
     ]
    }
   ],
   "source": [
    "import re\n",
    "\n",
    "def coord_find(location):\n",
    "    coords = re.findall(r\"\\(.+\\)\", location)\n",
    "    coords_str = coords[0].replace(\"(\", \"\").replace(\")\", \"\")\n",
    "    latitude, longitude = coords_str.split(\",\")\n",
    "    latitude = float(latitude.strip())\n",
    "    return latitude\n",
    "    \n",
    "data['hs_directory']['lat'] = data['hs_directory']['Location 1'].apply(coord_find)\n",
    "\n",
    "print(data['hs_directory'].head())"
   ]
  },
  {
   "cell_type": "code",
   "execution_count": 240,
   "id": "1bcd9e0b-4dde-45c7-9bd7-41cdd8f157e5",
   "metadata": {},
   "outputs": [
    {
     "name": "stdout",
     "output_type": "stream",
     "text": [
      "      dbn                                        school_name    borough  \\\n",
      "0  27Q260          Frederick Douglass Academy VI High School     Queens   \n",
      "1  21K559        Life Academy High School for Film and Music   Brooklyn   \n",
      "2  16K393     Frederick Douglass Academy IV Secondary School   Brooklyn   \n",
      "3  08X305                               Pablo Neruda Academy      Bronx   \n",
      "4  03M485  Fiorello H. LaGuardia High School of Music & A...  Manhattan   \n",
      "\n",
      "  building_code  phone_number    fax_number  grade_span_min  grade_span_max  \\\n",
      "0          Q465  718-471-2154  718-471-2890             9.0              12   \n",
      "1          K400  718-333-7750  718-333-7775             9.0              12   \n",
      "2          K026  718-574-2820  718-574-2821             9.0              12   \n",
      "3          X450  718-824-1682  718-824-1663             9.0              12   \n",
      "4          M485  212-496-0700  212-724-5748             9.0              12   \n",
      "\n",
      "   expgrade_span_min  expgrade_span_max  ...  \\\n",
      "0                NaN                NaN  ...   \n",
      "1                NaN                NaN  ...   \n",
      "2                NaN                NaN  ...   \n",
      "3                NaN                NaN  ...   \n",
      "4                NaN                NaN  ...   \n",
      "\n",
      "                                          Location 1 Community Board  \\\n",
      "0  8 21 Bay 25 Street\\nFar Rockaway, NY 11691\\n(4...            14.0   \n",
      "1  2630 Benson Avenue\\nBrooklyn, NY 11214\\n(40.59...            13.0   \n",
      "2  1014 Lafayette Avenue\\nBrooklyn, NY 11221\\n(40...             3.0   \n",
      "3  1980 Lafayette Avenue\\nBronx, NY 10473\\n(40.82...             9.0   \n",
      "4  100 Amsterdam Avenue\\nNew York, NY 10023\\n(40....             7.0   \n",
      "\n",
      "  Council District Census Tract        BIN           BBL  \\\n",
      "0             31.0     100802.0  4300730.0  4.157360e+09   \n",
      "1             47.0        306.0  3186454.0  3.068830e+09   \n",
      "2             36.0        291.0  3393805.0  3.016160e+09   \n",
      "3             18.0         16.0  2022205.0  2.036040e+09   \n",
      "4              6.0        151.0  1030341.0  1.011560e+09   \n",
      "\n",
      "                                                 NTA     DBN        lat  \\\n",
      "0  Far Rockaway-Bayswater                        ...  27Q260  40.601989   \n",
      "1  Gravesend                                     ...  21K559  40.593594   \n",
      "2  Stuyvesant Heights                            ...  16K393  40.692134   \n",
      "3  Soundview-Castle Hill-Clason Point-Harding Par...  08X305  40.822304   \n",
      "4  Lincoln Square                                ...  03M485  40.773671   \n",
      "\n",
      "         lon  \n",
      "0  40.601989  \n",
      "1  40.593594  \n",
      "2  40.692134  \n",
      "3  40.822304  \n",
      "4  40.773671  \n",
      "\n",
      "[5 rows x 67 columns]\n"
     ]
    }
   ],
   "source": [
    "def coord_find(location):\n",
    "    coords = re.findall(r\"\\(.+\\)\", location)\n",
    "    coords_str = coords[0].replace(\"(\", \"\").replace(\")\", \"\")\n",
    "    latitude, longitude = coords_str.split(\",\")\n",
    "    longitude = float(longitude.strip())\n",
    "    return longitude\n",
    "    \n",
    "data['hs_directory']['lon'] = data['hs_directory']['Location 1'].apply(coord_find)\n",
    "\n",
    "data['hs_directory']['lat'] = pd.to_numeric(data['hs_directory']['lat'], errors=\"coerce\")\n",
    "\n",
    "data['hs_directory']['lon'] = pd.to_numeric(data['hs_directory']['lat'],\n",
    "errors=\"coerce\")  \n",
    "\n",
    "print(data['hs_directory'].head())"
   ]
  },
  {
   "cell_type": "code",
   "execution_count": 241,
   "id": "0e569e52-a0ff-48b9-b1a6-b3e4a7f0fb7d",
   "metadata": {},
   "outputs": [
    {
     "name": "stdout",
     "output_type": "stream",
     "text": [
      "     CSD BOROUGH SCHOOL CODE                                    SCHOOL NAME  \\\n",
      "225    1       M        M292  Henry Street School for International Studies   \n",
      "226    1       M        M292  Henry Street School for International Studies   \n",
      "227    1       M        M292  Henry Street School for International Studies   \n",
      "228    1       M        M292  Henry Street School for International Studies   \n",
      "229    1       M        M292  Henry Street School for International Studies   \n",
      "\n",
      "    GRADE  PROGRAM TYPE CORE SUBJECT (MS CORE and 9-12 ONLY)  \\\n",
      "225  09-12       GEN ED                              ENGLISH   \n",
      "226  09-12       GEN ED                              ENGLISH   \n",
      "227  09-12       GEN ED                              ENGLISH   \n",
      "228  09-12       GEN ED                              ENGLISH   \n",
      "229  09-12       GEN ED                                 MATH   \n",
      "\n",
      "    CORE COURSE (MS CORE and 9-12 ONLY) SERVICE CATEGORY(K-9* ONLY)  \\\n",
      "225                           English 9                           -   \n",
      "226                          English 10                           -   \n",
      "227                          English 11                           -   \n",
      "228                          English 12                           -   \n",
      "229                  Integrated Algebra                           -   \n",
      "\n",
      "     NUMBER OF STUDENTS / SEATS FILLED  NUMBER OF SECTIONS  \\\n",
      "225                               63.0                 3.0   \n",
      "226                               79.0                 3.0   \n",
      "227                               38.0                 2.0   \n",
      "228                               69.0                 3.0   \n",
      "229                               53.0                 3.0   \n",
      "\n",
      "     AVERAGE CLASS SIZE  SIZE OF SMALLEST CLASS  SIZE OF LARGEST CLASS  \\\n",
      "225                21.0                    19.0                   25.0   \n",
      "226                26.3                    24.0                   31.0   \n",
      "227                19.0                    16.0                   22.0   \n",
      "228                23.0                    13.0                   30.0   \n",
      "229                17.7                    16.0                   21.0   \n",
      "\n",
      "    DATA SOURCE  SCHOOLWIDE PUPIL-TEACHER RATIO padded_csd     DBN  \n",
      "225       STARS                             NaN         01  01M292  \n",
      "226       STARS                             NaN         01  01M292  \n",
      "227       STARS                             NaN         01  01M292  \n",
      "228       STARS                             NaN         01  01M292  \n",
      "229       STARS                             NaN         01  01M292  \n"
     ]
    }
   ],
   "source": [
    "class_size = data['class_size']\n",
    "class_size = class_size[class_size['GRADE '].str.contains(\"09-12\", na=False)]\n",
    "class_size = class_size[class_size['PROGRAM TYPE'].str.contains(\"GEN ED\", na=False)] \n",
    "print(class_size.head())"
   ]
  },
  {
   "cell_type": "markdown",
   "id": "a9e8248e-f4de-4fb2-b185-38046d514407",
   "metadata": {},
   "source": [
    "### Aggregating Values by DBN  \n",
    "\n",
    "Each school has a unique **DBN (District Borough Number)**, which serves as an identifier. To standardize the dataset, we group the `class_size` DataFrame by DBN and compute the average of all numeric columns. After aggregation, we reset the index and store the processed DataFrame back into the `data` dictionary for further analysis.  \n"
   ]
  },
  {
   "cell_type": "code",
   "execution_count": 243,
   "id": "08d68b0a-0c55-4a5b-92f2-3b14e65c612a",
   "metadata": {},
   "outputs": [
    {
     "name": "stdout",
     "output_type": "stream",
     "text": [
      "      DBN  CSD  NUMBER OF STUDENTS / SEATS FILLED  NUMBER OF SECTIONS  \\\n",
      "0  01M292  1.0                            88.0000            4.000000   \n",
      "1  01M332  1.0                            46.0000            2.000000   \n",
      "2  01M378  1.0                            33.0000            1.000000   \n",
      "3  01M448  1.0                           105.6875            4.750000   \n",
      "4  01M450  1.0                            57.6000            2.733333   \n",
      "\n",
      "   AVERAGE CLASS SIZE  SIZE OF SMALLEST CLASS  SIZE OF LARGEST CLASS  \\\n",
      "0           22.564286                   18.50              26.571429   \n",
      "1           22.000000                   21.00              23.500000   \n",
      "2           33.000000                   33.00              33.000000   \n",
      "3           22.231250                   18.25              27.062500   \n",
      "4           21.200000                   19.40              22.866667   \n",
      "\n",
      "   SCHOOLWIDE PUPIL-TEACHER RATIO  \n",
      "0                             NaN  \n",
      "1                             NaN  \n",
      "2                             NaN  \n",
      "3                             NaN  \n",
      "4                             NaN  \n"
     ]
    }
   ],
   "source": [
    "class_size = class_size.groupby('DBN').agg('mean', numeric_only=True)\n",
    "class_size.reset_index(inplace=True)\n",
    "data['class_size'] = class_size\n",
    "print(data['class_size'].head())"
   ]
  },
  {
   "cell_type": "code",
   "execution_count": 244,
   "id": "0ea7d2b1-78d8-4605-85d5-e21e3ec59c20",
   "metadata": {},
   "outputs": [
    {
     "name": "stdout",
     "output_type": "stream",
     "text": [
      "       DBN                                              Name  schoolyear  \\\n",
      "6   01M015  P.S. 015 ROBERTO CLEMENTE                           20112012   \n",
      "13  01M019  P.S. 019 ASHER LEVY                                 20112012   \n",
      "20  01M020  PS 020 ANNA SILVER                                  20112012   \n",
      "27  01M034  PS 034 FRANKLIN D ROOSEVELT                         20112012   \n",
      "35  01M063  PS 063 WILLIAM MCKINLEY                             20112012   \n",
      "\n",
      "   fl_percent  frl_percent  total_enrollment prek    k grade1 grade2  ...  \\\n",
      "6         NaN         89.4               189   13   31     35     28  ...   \n",
      "13        NaN         61.5               328   32   46     52     54  ...   \n",
      "20        NaN         92.5               626   52  102    121     87  ...   \n",
      "27        NaN         99.7               401   14   34     38     36  ...   \n",
      "35        NaN         78.9               176   18   20     30     21  ...   \n",
      "\n",
      "   black_num black_per hispanic_num hispanic_per white_num white_per male_num  \\\n",
      "6         63      33.3          109         57.7         4       2.1     97.0   \n",
      "13        81      24.7          158         48.2        28       8.5    147.0   \n",
      "20        55       8.8          357         57.0        16       2.6    330.0   \n",
      "27        90      22.4          275         68.6         8       2.0    204.0   \n",
      "35        41      23.3          110         62.5        15       8.5     97.0   \n",
      "\n",
      "   male_per female_num female_per  \n",
      "6      51.3       92.0       48.7  \n",
      "13     44.8      181.0       55.2  \n",
      "20     52.7      296.0       47.3  \n",
      "27     50.9      197.0       49.1  \n",
      "35     55.1       79.0       44.9  \n",
      "\n",
      "[5 rows x 38 columns]\n"
     ]
    }
   ],
   "source": [
    "demographics = data['demographics']\n",
    "demographics = demographics[demographics['schoolyear'] == 20112012]\n",
    "data['demographics'] = demographics\n",
    "print(data['demographics'].head())"
   ]
  },
  {
   "cell_type": "code",
   "execution_count": 245,
   "id": "d5e4258e-5da0-4165-9f44-45e972fad967",
   "metadata": {},
   "outputs": [
    {
     "name": "stdout",
     "output_type": "stream",
     "text": [
      "     Demographic     DBN                            School Name Cohort  \\\n",
      "3   Total Cohort  01M292  HENRY STREET SCHOOL FOR INTERNATIONAL   2006   \n",
      "10  Total Cohort  01M448    UNIVERSITY NEIGHBORHOOD HIGH SCHOOL   2006   \n",
      "17  Total Cohort  01M450             EAST SIDE COMMUNITY SCHOOL   2006   \n",
      "24  Total Cohort  01M509                MARTA VALLE HIGH SCHOOL   2006   \n",
      "31  Total Cohort  01M515  LOWER EAST SIDE PREPARATORY HIGH SCHO   2006   \n",
      "\n",
      "    Total Cohort Total Grads - n Total Grads - % of cohort Total Regents - n  \\\n",
      "3             78              43                     55.1%                36   \n",
      "10           124              53                     42.7%                42   \n",
      "17            90              70                     77.8%                67   \n",
      "24            84              47                       56%                40   \n",
      "31           193             105                     54.4%                91   \n",
      "\n",
      "   Total Regents - % of cohort Total Regents - % of grads  ...  \\\n",
      "3                        46.2%                      83.7%  ...   \n",
      "10                       33.9%                      79.2%  ...   \n",
      "17         74.400000000000006%                      95.7%  ...   \n",
      "24                       47.6%                      85.1%  ...   \n",
      "31                       47.2%                      86.7%  ...   \n",
      "\n",
      "   Regents w/o Advanced - n Regents w/o Advanced - % of cohort  \\\n",
      "3                        36                              46.2%   \n",
      "10                       34                              27.4%   \n",
      "17                       67                74.400000000000006%   \n",
      "24                       23                              27.4%   \n",
      "31                       22                              11.4%   \n",
      "\n",
      "   Regents w/o Advanced - % of grads Local - n Local - % of cohort  \\\n",
      "3                              83.7%         7                  9%   \n",
      "10                             64.2%        11                8.9%   \n",
      "17                             95.7%         3                3.3%   \n",
      "24                             48.9%         7  8.300000000000001%   \n",
      "31                               21%        14                7.3%   \n",
      "\n",
      "   Local - % of grads Still Enrolled - n Still Enrolled - % of cohort  \\\n",
      "3               16.3%                 16                        20.5%   \n",
      "10              20.8%                 46                        37.1%   \n",
      "17               4.3%                 15                        16.7%   \n",
      "24              14.9%                 25                        29.8%   \n",
      "31              13.3%                 53                        27.5%   \n",
      "\n",
      "   Dropped Out - n Dropped Out - % of cohort  \n",
      "3               11                     14.1%  \n",
      "10              20       16.100000000000001%  \n",
      "17               5                      5.6%  \n",
      "24               5                        6%  \n",
      "31              35       18.100000000000001%  \n",
      "\n",
      "[5 rows x 23 columns]\n"
     ]
    }
   ],
   "source": [
    "graduation = data['graduation']\n",
    "graduation = graduation[graduation['Cohort'] == '2006']\n",
    "graduation = graduation[graduation['Demographic'] == 'Total Cohort']\n",
    "\n",
    "data['graduation'] = graduation\n",
    "\n",
    "print(data['graduation'].head())"
   ]
  },
  {
   "cell_type": "code",
   "execution_count": 246,
   "id": "1819ba06-b84e-42a6-ac94-3431dd231e29",
   "metadata": {},
   "outputs": [
    {
     "name": "stdout",
     "output_type": "stream",
     "text": [
      "DBN                                      object\n",
      "SchoolName                               object\n",
      "AP Test Takers                          float64\n",
      "Total Exams Taken                       float64\n",
      "Number of Exams with scores 3 4 or 5    float64\n",
      "dtype: object\n"
     ]
    }
   ],
   "source": [
    "cols = ['AP Test Takers ', 'Total Exams Taken', 'Number of Exams with scores 3 4 or 5']\n",
    "\n",
    "data['ap_2010']['AP Test Takers '] = pd.to_numeric(data['ap_2010']['AP Test Takers '], errors=\"coerce\")\n",
    "data['ap_2010']['Total Exams Taken'] = pd.to_numeric(data['ap_2010']['Total Exams Taken'], errors=\"coerce\")\n",
    "data['ap_2010']['Number of Exams with scores 3 4 or 5'] = pd.to_numeric(data['ap_2010']['Number of Exams with scores 3 4 or 5'], errors=\"coerce\")\n",
    "\n",
    "print(data['ap_2010'].dtypes)"
   ]
  },
  {
   "cell_type": "markdown",
   "id": "b6de9026-fd7d-48a5-a477-2ada248ee1ab",
   "metadata": {},
   "source": [
    "### Merging Data Tables  \n",
    "\n",
    "To create a comprehensive dataset, we merge multiple tables based on the **DBN (District Borough Number)**, which serves as a unique school identifier. We start with the `sat_results` dataset and perform left joins with:  \n",
    "\n",
    "- **`ap_2010`** – Contains Advanced Placement (AP) exam data  \n",
    "- **`graduation`** – Contains graduation rates  \n",
    "\n",
    "Using a left join ensures that all schools in the `sat_results` dataset are retained, even if corresponding AP or graduation data is missing. Finally, we print the first few rows and the shape of the merged dataset to inspect the results.  \n"
   ]
  },
  {
   "cell_type": "code",
   "execution_count": 248,
   "id": "b6223164-0af4-4b39-84ce-5f17af734097",
   "metadata": {},
   "outputs": [
    {
     "name": "stdout",
     "output_type": "stream",
     "text": [
      "      DBN                                    SCHOOL NAME  \\\n",
      "0  01M292  HENRY STREET SCHOOL FOR INTERNATIONAL STUDIES   \n",
      "1  01M448            UNIVERSITY NEIGHBORHOOD HIGH SCHOOL   \n",
      "2  01M450                     EAST SIDE COMMUNITY SCHOOL   \n",
      "3  01M458                      FORSYTH SATELLITE ACADEMY   \n",
      "4  01M509                        MARTA VALLE HIGH SCHOOL   \n",
      "\n",
      "  Num of SAT Test Takers  SAT Critical Reading Avg. Score  \\\n",
      "0                     29                            355.0   \n",
      "1                     91                            383.0   \n",
      "2                     70                            377.0   \n",
      "3                      7                            414.0   \n",
      "4                     44                            390.0   \n",
      "\n",
      "   SAT Math Avg. Score  SAT Writing Avg. Score  sat_score  \\\n",
      "0                404.0                   363.0     1122.0   \n",
      "1                423.0                   366.0     1172.0   \n",
      "2                402.0                   370.0     1149.0   \n",
      "3                401.0                   359.0     1174.0   \n",
      "4                433.0                   384.0     1207.0   \n",
      "\n",
      "                     SchoolName  AP Test Takers   Total Exams Taken  ...  \\\n",
      "0                           NaN              NaN                NaN  ...   \n",
      "1  UNIVERSITY NEIGHBORHOOD H.S.             39.0               49.0  ...   \n",
      "2        EAST SIDE COMMUNITY HS             19.0               21.0  ...   \n",
      "3                           NaN              NaN                NaN  ...   \n",
      "4                           NaN              NaN                NaN  ...   \n",
      "\n",
      "   Regents w/o Advanced - n Regents w/o Advanced - % of cohort  \\\n",
      "0                        36                              46.2%   \n",
      "1                        34                              27.4%   \n",
      "2                        67                74.400000000000006%   \n",
      "3                       NaN                                NaN   \n",
      "4                        23                              27.4%   \n",
      "\n",
      "  Regents w/o Advanced - % of grads Local - n  Local - % of cohort  \\\n",
      "0                             83.7%         7                   9%   \n",
      "1                             64.2%        11                 8.9%   \n",
      "2                             95.7%         3                 3.3%   \n",
      "3                               NaN       NaN                  NaN   \n",
      "4                             48.9%         7   8.300000000000001%   \n",
      "\n",
      "  Local - % of grads Still Enrolled - n Still Enrolled - % of cohort  \\\n",
      "0              16.3%                 16                        20.5%   \n",
      "1              20.8%                 46                        37.1%   \n",
      "2               4.3%                 15                        16.7%   \n",
      "3                NaN                NaN                          NaN   \n",
      "4              14.9%                 25                        29.8%   \n",
      "\n",
      "  Dropped Out - n Dropped Out - % of cohort  \n",
      "0              11                     14.1%  \n",
      "1              20       16.100000000000001%  \n",
      "2               5                      5.6%  \n",
      "3             NaN                       NaN  \n",
      "4               5                        6%  \n",
      "\n",
      "[5 rows x 33 columns]\n",
      "(479, 33)\n"
     ]
    }
   ],
   "source": [
    "combined = data[\"sat_results\"]\n",
    "\n",
    "combined = combined.merge(data[\"ap_2010\"], on=\"DBN\", how=\"left\")\n",
    "combined = combined.merge(data[\"graduation\"], on=\"DBN\", how=\"left\")\n",
    "\n",
    "print(combined.head())\n",
    "print(combined.shape)"
   ]
  },
  {
   "cell_type": "markdown",
   "id": "a808c37c-23f6-4fa1-ad34-e05dba2f0bd3",
   "metadata": {},
   "source": [
    "### Merging Additional Datasets  \n",
    "\n",
    "To enrich our analysis, we merge several additional datasets with the `combined` DataFrame using **inner joins** on **DBN (District Borough Number)**. The following datasets are merged:  \n",
    "\n",
    "- **`class_size`** – Contains information on class sizes  \n",
    "- **`demographics`** – Includes demographic details of students  \n",
    "- **`survey`** – Contains survey responses from students, teachers, and parents  \n",
    "- **`hs_directory`** – Provides high school directory information  \n",
    "\n",
    "Using an **inner join** ensures that only schools present in all datasets are retained. Finally, we print the first few rows and the shape of the resulting dataset to verify the merge.  \n"
   ]
  },
  {
   "cell_type": "code",
   "execution_count": 250,
   "id": "55bf0c95-92a8-48a9-ba03-e7a102477ed2",
   "metadata": {},
   "outputs": [
    {
     "name": "stdout",
     "output_type": "stream",
     "text": [
      "      DBN                                        SCHOOL NAME  \\\n",
      "0  01M292      HENRY STREET SCHOOL FOR INTERNATIONAL STUDIES   \n",
      "1  01M448                UNIVERSITY NEIGHBORHOOD HIGH SCHOOL   \n",
      "2  01M450                         EAST SIDE COMMUNITY SCHOOL   \n",
      "3  01M509                            MARTA VALLE HIGH SCHOOL   \n",
      "4  01M539  NEW EXPLORATIONS INTO SCIENCE, TECHNOLOGY AND ...   \n",
      "\n",
      "  Num of SAT Test Takers  SAT Critical Reading Avg. Score  \\\n",
      "0                     29                            355.0   \n",
      "1                     91                            383.0   \n",
      "2                     70                            377.0   \n",
      "3                     44                            390.0   \n",
      "4                    159                            522.0   \n",
      "\n",
      "   SAT Math Avg. Score  SAT Writing Avg. Score  sat_score  \\\n",
      "0                404.0                   363.0     1122.0   \n",
      "1                423.0                   366.0     1172.0   \n",
      "2                402.0                   370.0     1149.0   \n",
      "3                433.0                   384.0     1207.0   \n",
      "4                574.0                   525.0     1621.0   \n",
      "\n",
      "                       SchoolName  AP Test Takers   Total Exams Taken  ...  \\\n",
      "0                             NaN              NaN                NaN  ...   \n",
      "1    UNIVERSITY NEIGHBORHOOD H.S.             39.0               49.0  ...   \n",
      "2          EAST SIDE COMMUNITY HS             19.0               21.0  ...   \n",
      "3                             NaN              NaN                NaN  ...   \n",
      "4  NEW EXPLORATIONS SCI,TECH,MATH            255.0              377.0  ...   \n",
      "\n",
      "   priority10                                         Location 1  \\\n",
      "0         NaN  220 Henry Street\\nNew York, NY 10002\\n(40.7137...   \n",
      "1         NaN  200 Monroe Street\\nNew York, NY 10002\\n(40.712...   \n",
      "2         NaN  420 East 12 Street\\nNew York, NY 10009\\n(40.72...   \n",
      "3         NaN  145 Stanton Street\\nNew York, NY 10002\\n(40.72...   \n",
      "4         NaN  111 Columbia Street\\nNew York, NY 10002\\n(40.7...   \n",
      "\n",
      "  Community Board Council District  Census Tract        BIN           BBL  \\\n",
      "0             3.0              1.0         201.0  1003223.0  1.002690e+09   \n",
      "1             3.0              1.0         202.0  1003214.0  1.002590e+09   \n",
      "2             3.0              2.0          34.0  1005974.0  1.004390e+09   \n",
      "3             3.0              1.0        3001.0  1004323.0  1.003540e+09   \n",
      "4             3.0              2.0        2201.0  1004070.0  1.003350e+09   \n",
      "\n",
      "                                                 NTA        lat        lon  \n",
      "0  Lower East Side                               ...  40.713764  40.713764  \n",
      "1  Lower East Side                               ...  40.712332  40.712332  \n",
      "2  East Village                                  ...  40.729783  40.729783  \n",
      "3  Chinatown                                     ...  40.720569  40.720569  \n",
      "4  Lower East Side                               ...  40.718725  40.718725  \n",
      "\n",
      "[5 rows x 165 columns]\n",
      "(363, 165)\n"
     ]
    }
   ],
   "source": [
    "to_merge = [\"class_size\", \"demographics\", \"survey\", \"hs_directory\"]\n",
    "\n",
    "for m in to_merge:\n",
    "    combined = combined.merge(data[m], on=\"DBN\", how=\"inner\")\n",
    "\n",
    "print(combined.head())\n",
    "print(combined.shape)\n"
   ]
  },
  {
   "cell_type": "code",
   "execution_count": 251,
   "id": "951a0495-5c0d-4a7c-a190-ef107208ece7",
   "metadata": {},
   "outputs": [],
   "source": [
    "means = combined.mean(numeric_only=True)\n",
    "combined = combined.fillna(means)  \n",
    "pd.set_option('future.no_silent_downcasting', True)  \n",
    "\n",
    "combined = combined.fillna(0).infer_objects(copy=False)"
   ]
  },
  {
   "cell_type": "code",
   "execution_count": 252,
   "id": "f3b1e9d4-2c9d-47b9-aa2e-d8f5d631468e",
   "metadata": {},
   "outputs": [],
   "source": [
    "combined = combined.assign(school_dist=combined[\"DBN\"].str[:2])"
   ]
  },
  {
   "cell_type": "code",
   "execution_count": 272,
   "id": "5e25a38c-180a-432e-a346-617643be9d30",
   "metadata": {},
   "outputs": [
    {
     "name": "stdout",
     "output_type": "stream",
     "text": [
      "SAT Critical Reading Avg. Score    0.986820\n",
      "SAT Math Avg. Score                0.972643\n",
      "SAT Writing Avg. Score             0.987771\n",
      "sat_score                          1.000000\n",
      "AP Test Takers                     0.523140\n",
      "                                     ...   \n",
      "Census Tract                       0.048737\n",
      "BIN                                0.052232\n",
      "BBL                                0.044427\n",
      "lat                               -0.121029\n",
      "lon                               -0.121029\n",
      "Name: sat_score, Length: 74, dtype: float64\n"
     ]
    }
   ],
   "source": [
    "correlations = combined.corr(numeric_only=True)\n",
    "correlations = correlations[\"sat_score\"]\n",
    "\n",
    "print(correlations)"
   ]
  },
  {
   "cell_type": "markdown",
   "id": "b5d863ab-8dd2-4eda-bd01-a1759bb10e77",
   "metadata": {
    "jp-MarkdownHeadingCollapsed": true
   },
   "source": [
    "To identify relationships between different variables and **SAT scores**, we compute the **correlation matrix** for all numeric columns in the dataset. We then extract the correlation values specifically for the `sat_score` column.  "
   ]
  },
  {
   "cell_type": "code",
   "execution_count": 278,
   "id": "4795873e-a1af-4c39-a705-305eda5582c4",
   "metadata": {},
   "outputs": [],
   "source": [
    "survey = survey.copy()\n",
    "\n",
    "survey_fields = [\n",
    "    \"DBN\", \n",
    "    \"rr_s\", \n",
    "    \"rr_t\", \n",
    "    \"rr_p\", \n",
    "    \"N_s\", \n",
    "    \"N_t\", \n",
    "    \"N_p\", \n",
    "    \"saf_p_11\", \n",
    "    \"com_p_11\", \n",
    "    \"eng_p_11\", \n",
    "    \"aca_p_11\", \n",
    "    \"saf_t_11\", \n",
    "    \"com_t_11\", \n",
    "    \"eng_t_11\", \n",
    "    \"aca_t_11\", \n",
    "    \"saf_s_11\", \n",
    "    \"com_s_11\", \n",
    "    \"eng_s_11\", \n",
    "    \"aca_s_11\", \n",
    "    \"saf_tot_11\", \n",
    "    \"com_tot_11\", \n",
    "    \"eng_tot_11\", \n",
    "    \"aca_tot_11\",\n",
    "]\n",
    "survey = survey[survey_fields]\n",
    "data[\"survey\"] = survey"
   ]
  },
  {
   "cell_type": "code",
   "execution_count": 280,
   "id": "b0010875-3ea1-41e8-8dc2-6f25d68808cf",
   "metadata": {},
   "outputs": [],
   "source": [
    "survey_fields.remove(\"DBN\")"
   ]
  },
  {
   "cell_type": "code",
   "execution_count": 282,
   "id": "45c2241c-96c3-49ab-a78d-8344f1398758",
   "metadata": {},
   "outputs": [
    {
     "data": {
      "text/plain": [
       "<Axes: >"
      ]
     },
     "execution_count": 282,
     "metadata": {},
     "output_type": "execute_result"
    },
    {
     "data": {
      "image/png": "[encoded data removed]",
      "text/plain": [
       "<Figure size 640x480 with 1 Axes>"
      ]
     },
     "metadata": {},
     "output_type": "display_data"
    }
   ],
   "source": [
    "%matplotlib inline\n",
    "combined.corr(numeric_only=True)[\"sat_score\"][survey_fields].plot.bar()"
   ]
  },
  {
   "cell_type": "markdown",
   "id": "36a5189f-8c31-42cd-a640-d2a015d3225a",
   "metadata": {},
   "source": [
    "### Key Correlations with SAT Scores  \n",
    "\n",
    "The bar chart reveals several notable correlations between survey responses and SAT scores.  \n",
    "\n",
    "- **High correlations** between `N_s`, `N_t`, `N_p`, and `sat_score` make sense since these variables are related to total enrollment which itself has some correlation with SAT scores.  \n",
    "- **Student Response Rate** (`rr_s`) shows a moderate positive correlation with SAT scores. This could indicate that students who are more engaged (e.g., willing to complete surveys) may also be more academically inclined.  \n",
    "- **Perceived Safety** (`saf_t_11` and `saf_s_11`) correlates positively with SAT scores, which is logical—learning is more effective in a safe environment.  \n",
    "- **Student Perception of Academic Standards** (`aca_s_11`) correlates with SAT scores, whereas teacher (`aca_t_11`) and parent (`aca_p_11`) perceptions do not. This suggests that students' own assessment of academic rigor may be a stronger predictor of performance.  \n",
    "\n",
    "These insights highlight the importance of student engagement, school safety, and perceived academic challenge in influencing SAT performance.  \n"
   ]
  },
  {
   "cell_type": "code",
   "execution_count": 285,
   "id": "3e11e902-037b-4e9f-a843-0e3b11fa9b9a",
   "metadata": {},
   "outputs": [
    {
     "data": {
      "text/plain": [
       "<Axes: xlabel='saf_s_11', ylabel='sat_score'>"
      ]
     },
     "execution_count": 285,
     "metadata": {},
     "output_type": "execute_result"
    },
    {
     "data": {
      "image/png": "[encoded data removed]",
      "text/plain": [
       "<Figure size 640x480 with 1 Axes>"
      ]
     },
     "metadata": {},
     "output_type": "display_data"
    }
   ],
   "source": [
    "combined.plot.scatter(\"saf_s_11\", \"sat_score\")"
   ]
  },
  {
   "cell_type": "markdown",
   "id": "3ba00d8d-1552-420a-bac7-5741b005dbf5",
   "metadata": {},
   "source": [
    "### Relationship Between Perceived Safety and SAT Scores  \n",
    "\n",
    "The scatter plot suggests a positive correlation between student-perceived safety (`saf_s_11` and SAT scores though the correlation is not particularly strong. Key observations include:  \n",
    "\n",
    "- Schools with higher safety scores tend to have higher SAT scores, with a few outliers showing extremely high SAT scores.  \n",
    "- Schools with lower safety scores generally have lower SAT scores.  \n",
    "- Notably, no school with a safety score below 6.5 has an average SAT score exceeding 1500, suggesting that a minimum level of safety might be necessary for strong academic performance.  \n",
    "\n",
    "While this does not imply causation, it aligns with the idea that a safe learning environment may contribute to better student outcomes.  \n"
   ]
  },
  {
   "cell_type": "markdown",
   "id": "89e4f2e1-75c3-4422-b7bb-41c7c4a2dc84",
   "metadata": {},
   "source": [
    "### Analyzing the Relationship Between SAT Scores and Total Enrollment  \n",
    "\n",
    "From the scatter plot, there doesn’t appear to be a strong correlation between **SAT scores** and **total enrollment**. If a strong correlation existed, we would expect the points to form a clear linear pattern. Instead, we observe:  \n",
    "\n",
    "- A **large central cluster** of schools with varying SAT scores and enrollments.  \n",
    "- A **few outliers** diverging in different directions, reducing the overall correlation.  \n",
    "- A **notable cluster in the bottom-left**, where both **total enrollment** and **SAT scores** are low.  \n",
    "\n",
    "This low-enrollment, low-SAT-score cluster may be influencing the correlation value. It’s worth extracting the names of these schools for further investigation.  \n"
   ]
  },
  {
   "cell_type": "code",
   "execution_count": 196,
   "id": "1f2cc28a-f0b7-436d-8434-1d39f2fec63f",
   "metadata": {},
   "outputs": [
    {
     "data": {
      "image/png": "[encoded data removed]",
      "text/plain": [
       "<Figure size 640x480 with 1 Axes>"
      ]
     },
     "metadata": {},
     "output_type": "display_data"
    }
   ],
   "source": [
    "combined.plot.scatter(x=\"total_enrollment\", y=\"sat_score\")\n",
    "plt.show()"
   ]
  },
  {
   "cell_type": "code",
   "execution_count": 198,
   "id": "ca999bcf-e70f-40d9-9d3d-2b377f635841",
   "metadata": {},
   "outputs": [
    {
     "name": "stdout",
     "output_type": "stream",
     "text": [
      "91       INTERNATIONAL COMMUNITY HIGH SCHOOL\n",
      "125                                        0\n",
      "126          BRONX INTERNATIONAL HIGH SCHOOL\n",
      "139    KINGSBRIDGE INTERNATIONAL HIGH SCHOOL\n",
      "141    INTERNATIONAL SCHOOL FOR LIBERAL ARTS\n",
      "176                                        0\n",
      "179            HIGH SCHOOL OF WORLD CULTURES\n",
      "188       BROOKLYN INTERNATIONAL HIGH SCHOOL\n",
      "225    INTERNATIONAL HIGH SCHOOL AT PROSPECT\n",
      "237               IT TAKES A VILLAGE ACADEMY\n",
      "253                MULTICULTURAL HIGH SCHOOL\n",
      "286    PAN AMERICAN INTERNATIONAL HIGH SCHOO\n",
      "Name: School Name, dtype: object\n"
     ]
    }
   ],
   "source": [
    "low_enrollment = combined[combined[\"total_enrollment\"] < 1000]\n",
    "low_enrollment = low_enrollment[low_enrollment[\"sat_score\"] < 1000]\n",
    "print(low_enrollment[\"School Name\"])"
   ]
  },
  {
   "cell_type": "code",
   "execution_count": 224,
   "id": "a45575e6-ed99-4074-8bb2-a1742e33a25b",
   "metadata": {},
   "outputs": [
    {
     "data": {
      "image/png": "[encoded data removed]",
      "text/plain": [
       "<Figure size 640x480 with 1 Axes>"
      ]
     },
     "metadata": {},
     "output_type": "display_data"
    }
   ],
   "source": [
    "combined.plot.scatter(x='ell_percent', y='sat_score')\n",
    "plt.show()"
   ]
  },
  {
   "cell_type": "markdown",
   "id": "51b3958d-66b6-4320-b41d-14989c9f3596",
   "metadata": {},
   "source": [
    "### Exploring the Negative Correlation Between `ell_percent` and SAT Scores  \n",
    "\n",
    "The variable **`ell_percent`** (percentage of English Language Learners) shows a **strong negative correlation** with **SAT scores**. This suggests that schools with a higher proportion of English Language Learners tend to have lower SAT scores.  \n",
    "\n",
    "Possible reasons for this relationship include:  \n",
    "\n",
    "- **Language Barrier** – The SAT is heavily language-dependent, which may disadvantage students still developing English proficiency.  \n",
    "- **Academic Challenges** – English Language Learners may require additional support in coursework, affecting standardized test performance. \n",
    "- **Socioeconomic Factors** – Schools with a high percentage of ELL students might have fewer academic resources, further impacting scores.  \n",
    "\n",
    "This insight highlights the need for targeted interventions to support English Language Learners in SAT preparation.  "
   ]
  },
  {
   "cell_type": "code",
   "execution_count": 226,
   "id": "26cec257-c0b8-47be-bd02-d52edf07b429",
   "metadata": {},
   "outputs": [
    {
     "name": "stdout",
     "output_type": "stream",
     "text": [
      "  school_dist  SAT Critical Reading Avg. Score  SAT Math Avg. Score  \\\n",
      "0          01                       441.833333           473.333333   \n",
      "1          02                       426.619092           444.186256   \n",
      "2          03                       428.529851           437.997512   \n",
      "3          04                       402.142857           416.285714   \n",
      "4          05                       427.159915           438.236674   \n",
      "\n",
      "   SAT Writing Avg. Score    sat_score  AP Test Takers   Total Exams Taken  \\\n",
      "0              439.333333  1354.500000       116.681090         173.019231   \n",
      "1              424.832836  1295.638184       128.908454         201.516827   \n",
      "2              426.915672  1293.443035       156.183494         244.522436   \n",
      "3              405.714286  1224.142857       129.016484         183.879121   \n",
      "4              419.666098  1285.062687        85.722527         115.725275   \n",
      "\n",
      "   Number of Exams with scores 3 4 or 5  Total Cohort  CSD  ...  priority08  \\\n",
      "0                            135.800000     93.500000  1.0  ...         0.0   \n",
      "1                            157.495833    158.647849  2.0  ...         0.0   \n",
      "2                            193.087500    183.384409  3.0  ...         0.0   \n",
      "3                            151.035714    113.857143  4.0  ...         0.0   \n",
      "4                            142.464286    143.677419  5.0  ...         0.0   \n",
      "\n",
      "   priority09  priority10  Community Board  Council District  Census Tract  \\\n",
      "0         0.0         0.0         3.000000          1.500000   1106.833333   \n",
      "1         0.0         0.0         4.204005          2.963296   1132.479744   \n",
      "2         0.0         0.0         7.500000          6.500000    166.666667   \n",
      "3         0.0         0.0        11.000000          8.000000   2637.000000   \n",
      "4         0.0         0.0         9.428571          8.142857   9372.571429   \n",
      "\n",
      "            BIN           BBL        lat        lon  \n",
      "0  1.004144e+06  1.003302e+09  40.719022  40.719022  \n",
      "1  1.103862e+06  1.070438e+09  40.739699  40.739699  \n",
      "2  1.034931e+06  1.012833e+09  40.781574  40.781574  \n",
      "3  1.055874e+06  1.016681e+09  40.793449  40.793449  \n",
      "4  1.063080e+06  1.019721e+09  40.817077  40.817077  \n",
      "\n",
      "[5 rows x 75 columns]\n"
     ]
    }
   ],
   "source": [
    "districts = combined.groupby(\"school_dist\").agg('mean', numeric_only=True)\n",
    "districts.reset_index(inplace=True)\n",
    "\n",
    "print(districts.head())"
   ]
  },
  {
   "cell_type": "code",
   "execution_count": 300,
   "id": "73b1ee7e-fada-44b2-ac37-2d3dd55b063c",
   "metadata": {},
   "outputs": [
    {
     "data": {
      "text/plain": [
       "<Axes: >"
      ]
     },
     "execution_count": 300,
     "metadata": {},
     "output_type": "execute_result"
    },
    {
     "data": {
      "image/png": "[encoded data removed]",
      "text/plain": [
       "<Figure size 640x480 with 1 Axes>"
      ]
     },
     "metadata": {},
     "output_type": "display_data"
    }
   ],
   "source": [
    "race_fields = [\"white_per\", \"asian_per\", \"black_per\", \"hispanic_per\"]\n",
    "combined.corr(numeric_only=True)[\"sat_score\"][race_fields].plot.bar()"
   ]
  },
  {
   "cell_type": "markdown",
   "id": "99efbf36-230b-4c08-8f78-3f5a2b5d783e",
   "metadata": {},
   "source": [
    "### Correlation Between Racial Demographics and SAT Scores  \n",
    "\n",
    "The bar chart indicates a relationship between racial demographics and SAT scores:  \n",
    "\n",
    "- A higher percentage of White (`white_per`) or Asian (`asian_per`) students correlates positively with SAT scores.  \n",
    "- A higher percentage of Black (`black_per`) or Hispanic (`hispanic_per`) students correlates negatively with SAT scores.  \n",
    "\n",
    "This pattern may reflect systemic disparities in education, such as:  \n",
    "\n",
    "- **School Funding Differences** – Schools with more Black and Hispanic students may receive less funding, affecting resources, teacher quality, and student outcomes.  \n",
    "- **Access to Advanced Coursework** – Schools in underfunded areas may offer fewer AP or honors courses, limiting SAT preparation.  \n",
    "- **Socioeconomic Factors** – Economic disparities can impact academic performance, including access to tutoring, test prep, and stable learning environments.  \n",
    "\n",
    "These correlations highlight the importance of addressing educational inequalities to ensure all students have the support needed for academic success.  \n"
   ]
  },
  {
   "cell_type": "code",
   "execution_count": 303,
   "id": "b07ecf89-780a-414b-9468-ddfb46255b97",
   "metadata": {},
   "outputs": [
    {
     "data": {
      "text/plain": [
       "<Axes: xlabel='hispanic_per', ylabel='sat_score'>"
      ]
     },
     "execution_count": 303,
     "metadata": {},
     "output_type": "execute_result"
    },
    {
     "data": {
      "image/png": "[encoded data removed]",
      "text/plain": [
       "<Figure size 640x480 with 1 Axes>"
      ]
     },
     "metadata": {},
     "output_type": "display_data"
    }
   ],
   "source": [
    "combined.plot.scatter(\"hispanic_per\", \"sat_score\")"
   ]
  },
  {
   "cell_type": "code",
   "execution_count": 307,
   "id": "5e740fa1-9359-4caa-b0ab-6cc046e2e211",
   "metadata": {},
   "outputs": [
    {
     "name": "stdout",
     "output_type": "stream",
     "text": [
      "44                         MANHATTAN BRIDGES HIGH SCHOOL\n",
      "82      WASHINGTON HEIGHTS EXPEDITIONARY LEARNING SCHOOL\n",
      "89     GREGORIO LUPERON HIGH SCHOOL FOR SCIENCE AND M...\n",
      "125                  ACADEMY FOR LANGUAGE AND TECHNOLOGY\n",
      "141                INTERNATIONAL SCHOOL FOR LIBERAL ARTS\n",
      "176     PAN AMERICAN INTERNATIONAL HIGH SCHOOL AT MONROE\n",
      "253                            MULTICULTURAL HIGH SCHOOL\n",
      "286               PAN AMERICAN INTERNATIONAL HIGH SCHOOL\n",
      "Name: SCHOOL NAME, dtype: object\n"
     ]
    }
   ],
   "source": [
    "print(combined[combined[\"hispanic_per\"] > 95][\"SCHOOL NAME\"])"
   ]
  },
  {
   "cell_type": "markdown",
   "id": "91f7e047-ca07-42fc-b811-2a44415bb88a",
   "metadata": {},
   "source": [
    "The schools identified in the analysis primarily serve recent immigrants to the U.S. A key factor influencing their lower SAT scores is the high proportion of students learning English. "
   ]
  },
  {
   "cell_type": "code",
   "execution_count": 313,
   "id": "76a34f48-7781-4b8a-954f-305a96e8a87f",
   "metadata": {},
   "outputs": [
    {
     "name": "stdout",
     "output_type": "stream",
     "text": [
      "37                                STUYVESANT HIGH SCHOOL\n",
      "151                         BRONX HIGH SCHOOL OF SCIENCE\n",
      "187                       BROOKLYN TECHNICAL HIGH SCHOOL\n",
      "327    QUEENS HIGH SCHOOL FOR THE SCIENCES AT YORK CO...\n",
      "356                  STATEN ISLAND TECHNICAL HIGH SCHOOL\n",
      "Name: SCHOOL NAME, dtype: object\n"
     ]
    }
   ],
   "source": [
    "print(combined[(combined[\"hispanic_per\"] < 10) & (combined[\"sat_score\"] > 1800)][\"SCHOOL NAME\"])"
   ]
  },
  {
   "cell_type": "code",
   "execution_count": 315,
   "id": "e47c0cb6-2467-432f-95ec-18c1e9f9f122",
   "metadata": {},
   "outputs": [
    {
     "data": {
      "text/plain": [
       "<Axes: xlabel='female_per', ylabel='sat_score'>"
      ]
     },
     "execution_count": 315,
     "metadata": {},
     "output_type": "execute_result"
    },
    {
     "data": {
      "image/png": "[encoded data removed]",
      "text/plain": [
       "<Figure size 640x480 with 1 Axes>"
      ]
     },
     "metadata": {},
     "output_type": "display_data"
    }
   ],
   "source": [
    "combined.plot.scatter(\"female_per\", \"sat_score\")"
   ]
  },
  {
   "cell_type": "markdown",
   "id": "99477730-4e79-4a05-ad32-1b9ee3c2c216",
   "metadata": {},
   "source": [
    "There is no strong correlation between `sat_score` and `female_per`. However, a cluster of schools with 60% to 80% female students shows higher SAT scores, suggesting that certain female-dominated schools may perform better academically.  "
   ]
  },
  {
   "cell_type": "code",
   "execution_count": 319,
   "id": "b20009c3-bba6-47fe-ab7f-f1f23d1a253b",
   "metadata": {},
   "outputs": [
    {
     "name": "stdout",
     "output_type": "stream",
     "text": [
      "5                         BARD HIGH SCHOOL EARLY COLLEGE\n",
      "26                         ELEANOR ROOSEVELT HIGH SCHOOL\n",
      "60                                    BEACON HIGH SCHOOL\n",
      "61     FIORELLO H. LAGUARDIA HIGH SCHOOL OF MUSIC & A...\n",
      "302                          TOWNSEND HARRIS HIGH SCHOOL\n",
      "Name: SCHOOL NAME, dtype: object\n"
     ]
    }
   ],
   "source": [
    "print(combined[(combined[\"female_per\"] > 60) & (combined[\"sat_score\"] > 1700)][\"SCHOOL NAME\"])"
   ]
  },
  {
   "cell_type": "markdown",
   "id": "0c9e55d0-efea-4161-be54-244388da433b",
   "metadata": {},
   "source": [
    "The schools with 60% to 80% female students and high SAT scores appear to be selective liberal arts schools with high academic standards."
   ]
  },
  {
   "cell_type": "code",
   "execution_count": 323,
   "id": "b6a2ce9a-4d32-46ba-a378-81c73002a76b",
   "metadata": {},
   "outputs": [
    {
     "data": {
      "text/plain": [
       "<Axes: xlabel='ap_per', ylabel='sat_score'>"
      ]
     },
     "execution_count": 323,
     "metadata": {},
     "output_type": "execute_result"
    },
    {
     "data": {
      "image/png": "[encoded data removed]",
      "text/plain": [
       "<Figure size 640x480 with 1 Axes>"
      ]
     },
     "metadata": {},
     "output_type": "display_data"
    }
   ],
   "source": [
    "combined[\"ap_per\"] = combined[\"AP Test Takers \"] / combined[\"total_enrollment\"]\n",
    "combined = combined.copy()\n",
    "combined.plot.scatter(x='ap_per', y='sat_score')"
   ]
  },
  {
   "cell_type": "markdown",
   "id": "518b2290-1fe0-4165-8d71-a5df6f94191f",
   "metadata": {},
   "source": [
    "There is a relationship between the percentage of students taking the **AP exam** and **SAT scores**, but the correlation is not very strong.  "
   ]
  },
  {
   "cell_type": "code",
   "execution_count": null,
   "id": "6bafa876-c720-49bf-8906-062f6ec7e517",
   "metadata": {},
   "outputs": [],
   "source": []
  }
 ],
 "metadata": {
  "kernelspec": {
   "display_name": "Python 3 (ipykernel)",
   "language": "python",
   "name": "python3"
  },
  "language_info": {
   "codemirror_mode": {
    "name": "ipython",
    "version": 3
   },
   "file_extension": ".py",
   "mimetype": "text/x-python",
   "name": "python",
   "nbconvert_exporter": "python",
   "pygments_lexer": "ipython3",
   "version": "3.12.4"
  }
 },
 "nbformat": 4,
 "nbformat_minor": 5
}
